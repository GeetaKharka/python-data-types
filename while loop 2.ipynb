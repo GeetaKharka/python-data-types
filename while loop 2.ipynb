{
 "cells": [
  {
   "cell_type": "code",
   "execution_count": 1,
   "id": "a3c35aa0",
   "metadata": {},
   "outputs": [],
   "source": [
    "#while loop in python \n",
    "#while"
   ]
  },
  {
   "cell_type": "code",
   "execution_count": 2,
   "id": "9e50c0e7",
   "metadata": {},
   "outputs": [
    {
     "name": "stdout",
     "output_type": "stream",
     "text": [
      "the current value of x is 0\n",
      "the current value of x is 1\n",
      "the current value of x is 2\n",
      "the current value of x is 3\n",
      "the current value of x is 4\n",
      "x is not less than 5\n"
     ]
    }
   ],
   "source": [
    "x=0\n",
    "while x<5:\n",
    "    print(f'the current value of x is {x}')\n",
    "    x+=1\n",
    "else:\n",
    "    print ('x is not less than 5')"
   ]
  },
  {
   "cell_type": "code",
   "execution_count": 3,
   "id": "56fca1bb",
   "metadata": {},
   "outputs": [],
   "source": [
    "#break,continue ,pass\n",
    "#break out of the closest enclosing loop\n",
    "#continue goes to the rop of the closest enclosing loop\n",
    "#pass does nothing at all"
   ]
  },
  {
   "cell_type": "code",
   "execution_count": 4,
   "id": "4fa4bcf0",
   "metadata": {},
   "outputs": [
    {
     "name": "stdout",
     "output_type": "stream",
     "text": [
      "the end of my script\n"
     ]
    }
   ],
   "source": [
    "x=[1,2,3]\n",
    "for item in x:\n",
    "    #gsdgsd\n",
    "    pass\n",
    "print (\"the end of my script\")"
   ]
  },
  {
   "cell_type": "code",
   "execution_count": 5,
   "id": "1b80c653",
   "metadata": {},
   "outputs": [
    {
     "name": "stdout",
     "output_type": "stream",
     "text": [
      "G\n",
      "t\n",
      "a\n"
     ]
    }
   ],
   "source": [
    "mystring =\"Geeta\"\n",
    "for letter in mystring:\n",
    "    if letter =='e':\n",
    "             continue \n",
    "    print(letter)"
   ]
  },
  {
   "cell_type": "code",
   "execution_count": 6,
   "id": "70e3ad57",
   "metadata": {},
   "outputs": [
    {
     "name": "stdout",
     "output_type": "stream",
     "text": [
      "G\n",
      "e\n",
      "e\n",
      "t\n"
     ]
    }
   ],
   "source": [
    "mystring =\"Geeta\"\n",
    "for letter in mystring:\n",
    "    if letter =='a':\n",
    "             break\n",
    "    print(letter)"
   ]
  },
  {
   "cell_type": "code",
   "execution_count": 15,
   "id": "f8e29109",
   "metadata": {},
   "outputs": [
    {
     "name": "stdout",
     "output_type": "stream",
     "text": [
      " the end\n"
     ]
    }
   ],
   "source": [
    "x=[1,2,3]\n",
    "for item in x:\n",
    "    #gsdgsd\n",
    "    pass\n",
    "print (\" the end\")"
   ]
  },
  {
   "cell_type": "code",
   "execution_count": null,
   "id": "f5748835",
   "metadata": {},
   "outputs": [],
   "source": []
  },
  {
   "cell_type": "code",
   "execution_count": null,
   "id": "8e28e5a0",
   "metadata": {},
   "outputs": [],
   "source": []
  }
 ],
 "metadata": {
  "kernelspec": {
   "display_name": "Python 3 (ipykernel)",
   "language": "python",
   "name": "python3"
  },
  "language_info": {
   "codemirror_mode": {
    "name": "ipython",
    "version": 3
   },
   "file_extension": ".py",
   "mimetype": "text/x-python",
   "name": "python",
   "nbconvert_exporter": "python",
   "pygments_lexer": "ipython3",
   "version": "3.10.9"
  }
 },
 "nbformat": 4,
 "nbformat_minor": 5
}

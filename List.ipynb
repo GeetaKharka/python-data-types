{
 "cells": [
  {
   "cell_type": "code",
   "execution_count": 1,
   "id": "9f7f5086",
   "metadata": {},
   "outputs": [
    {
     "data": {
      "text/plain": [
       "[1, 2, 3, 4, 5, 6]"
      ]
     },
     "execution_count": 1,
     "metadata": {},
     "output_type": "execute_result"
    }
   ],
   "source": [
    "my_list =[1,2,3,4,5,6]\n",
    "my_list"
   ]
  },
  {
   "cell_type": "code",
   "execution_count": 6,
   "id": "948d9286",
   "metadata": {},
   "outputs": [
    {
     "data": {
      "text/plain": [
       "['h', 'llo']"
      ]
     },
     "execution_count": 6,
     "metadata": {},
     "output_type": "execute_result"
    }
   ],
   "source": [
    "my_string ='hello'\n",
    "my_string.split('e')"
   ]
  },
  {
   "cell_type": "code",
   "execution_count": 9,
   "id": "28eb1af9",
   "metadata": {},
   "outputs": [
    {
     "data": {
      "text/plain": [
       "[4, 5]"
      ]
     },
     "execution_count": 9,
     "metadata": {},
     "output_type": "execute_result"
    }
   ],
   "source": [
    "my_list = [4,5,'six']\n",
    "my_list[0:2]"
   ]
  },
  {
   "cell_type": "code",
   "execution_count": 12,
   "id": "d50b5fe3",
   "metadata": {},
   "outputs": [
    {
     "data": {
      "text/plain": [
       "[4, 5, 6, 4, 5, 'six']"
      ]
     },
     "execution_count": 12,
     "metadata": {},
     "output_type": "execute_result"
    }
   ],
   "source": [
    "my_list =[4,5,6]\n",
    "second_list = [4,5,'six']\n",
    "new_list = my_list + second_list\n",
    "new_list"
   ]
  },
  {
   "cell_type": "code",
   "execution_count": 20,
   "id": "f80c5244",
   "metadata": {},
   "outputs": [
    {
     "data": {
      "text/plain": [
       "[5, 6, 7, 8]"
      ]
     },
     "execution_count": 20,
     "metadata": {},
     "output_type": "execute_result"
    }
   ],
   "source": [
    "new_list =['a','b','e','8']\n",
    "num_list =[5,6,7,8]\n",
    "new_list.sort()\n",
    "num_list"
   ]
  },
  {
   "cell_type": "code",
   "execution_count": 22,
   "id": "cf355335",
   "metadata": {},
   "outputs": [
    {
     "data": {
      "text/plain": [
       "['8', 'a', 'b', 'e']"
      ]
     },
     "execution_count": 22,
     "metadata": {},
     "output_type": "execute_result"
    }
   ],
   "source": [
    "sorted_list=new_list\n",
    "sorted_list"
   ]
  },
  {
   "cell_type": "code",
   "execution_count": 32,
   "id": "2929c9be",
   "metadata": {},
   "outputs": [
    {
     "data": {
      "text/plain": [
       "9"
      ]
     },
     "execution_count": 32,
     "metadata": {},
     "output_type": "execute_result"
    }
   ],
   "source": [
    "len(my_list)"
   ]
  },
  {
   "cell_type": "code",
   "execution_count": 35,
   "id": "4723b38c",
   "metadata": {},
   "outputs": [
    {
     "data": {
      "text/plain": [
       "[74, 0, 9, 8, 7, 5]"
      ]
     },
     "execution_count": 35,
     "metadata": {},
     "output_type": "execute_result"
    }
   ],
   "source": [
    "my_list=[5,7,8,9,0,74]\n",
    "my_list.reverse()\n",
    "reversed_list=my_list\n",
    "reversed_list"
   ]
  },
  {
   "cell_type": "markdown",
   "id": "4a0dd746",
   "metadata": {},
   "source": [
    "#Dictionaries"
   ]
  },
  {
   "cell_type": "code",
   "execution_count": 38,
   "id": "8660e6c7",
   "metadata": {},
   "outputs": [
    {
     "data": {
      "text/plain": [
       "{'key1': 'value1', 'key2': 'value2'}"
      ]
     },
     "execution_count": 38,
     "metadata": {},
     "output_type": "execute_result"
    }
   ],
   "source": [
    "my_dict ={'key1':'value1','key2':'value2'}\n",
    "my_dict"
   ]
  },
  {
   "cell_type": "code",
   "execution_count": 39,
   "id": "50bda3d0",
   "metadata": {},
   "outputs": [
    {
     "data": {
      "text/plain": [
       "'value1'"
      ]
     },
     "execution_count": 39,
     "metadata": {},
     "output_type": "execute_result"
    }
   ],
   "source": [
    "my_dict['key1']"
   ]
  },
  {
   "cell_type": "code",
   "execution_count": 43,
   "id": "603fdc44",
   "metadata": {},
   "outputs": [
    {
     "data": {
      "text/plain": [
       "200"
      ]
     },
     "execution_count": 43,
     "metadata": {},
     "output_type": "execute_result"
    }
   ],
   "source": [
    "prices_lookup={'apple':200,'banana':340}\n",
    "prices_lookup['apple']"
   ]
  },
  {
   "cell_type": "code",
   "execution_count": 50,
   "id": "55a7b66a",
   "metadata": {},
   "outputs": [
    {
     "data": {
      "text/plain": [
       "['a', 'b', 'c']"
      ]
     },
     "execution_count": 50,
     "metadata": {},
     "output_type": "execute_result"
    }
   ],
   "source": [
    "d={'k1':['a','b','c']}\n",
    "letter =d['k1']\n",
    "letter"
   ]
  },
  {
   "cell_type": "code",
   "execution_count": 53,
   "id": "d9c598e9",
   "metadata": {},
   "outputs": [
    {
     "data": {
      "text/plain": [
       "'C'"
      ]
     },
     "execution_count": 53,
     "metadata": {},
     "output_type": "execute_result"
    }
   ],
   "source": [
    "d={'k1':['a','b','c']}\n",
    "my_letter=letter[2]\n",
    "my_letter.upper()"
   ]
  },
  {
   "cell_type": "code",
   "execution_count": 65,
   "id": "cd47487b",
   "metadata": {},
   "outputs": [
    {
     "data": {
      "text/plain": [
       "5"
      ]
     },
     "execution_count": 65,
     "metadata": {},
     "output_type": "execute_result"
    }
   ],
   "source": [
    "prices_lookup ={'Pen':10,'Pencil':5,'Eraser':5}\n",
    "prices_lookup['Pencil']"
   ]
  },
  {
   "cell_type": "code",
   "execution_count": null,
   "id": "b0c5d544",
   "metadata": {},
   "outputs": [],
   "source": []
  }
 ],
 "metadata": {
  "kernelspec": {
   "display_name": "Python 3 (ipykernel)",
   "language": "python",
   "name": "python3"
  },
  "language_info": {
   "codemirror_mode": {
    "name": "ipython",
    "version": 3
   },
   "file_extension": ".py",
   "mimetype": "text/x-python",
   "name": "python",
   "nbconvert_exporter": "python",
   "pygments_lexer": "ipython3",
   "version": "3.10.9"
  }
 },
 "nbformat": 4,
 "nbformat_minor": 5
}

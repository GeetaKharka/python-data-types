{
 "cells": [
  {
   "cell_type": "code",
   "execution_count": 1,
   "id": "0fa321b9",
   "metadata": {},
   "outputs": [
    {
     "data": {
      "text/plain": [
       "'C:\\\\Users\\\\MEDHAVI\\\\Desktop\\\\python'"
      ]
     },
     "execution_count": 1,
     "metadata": {},
     "output_type": "execute_result"
    }
   ],
   "source": [
    "pwd"
   ]
  },
  {
   "cell_type": "code",
   "execution_count": 2,
   "id": "2c6f56d2",
   "metadata": {},
   "outputs": [
    {
     "name": "stdout",
     "output_type": "stream",
     "text": [
      "Writing myfile.txt\n"
     ]
    }
   ],
   "source": [
    "%%writefile myfile.txt\n",
    "Hello this is th first line\n",
    "This is the second line\n",
    "This is the third line\n",
    "myfile =open('myfile.txt')"
   ]
  },
  {
   "cell_type": "code",
   "execution_count": 18,
   "id": "93e7f5e9",
   "metadata": {},
   "outputs": [
    {
     "data": {
      "text/plain": [
       "\"Hello this is th first line\\nThis is the second line\\nThis is the third line\\nmyfile =open('myfile.txt')\\n\""
      ]
     },
     "execution_count": 18,
     "metadata": {},
     "output_type": "execute_result"
    }
   ],
   "source": [
    "myfile=open('myfile.txt')\n",
    "myfile.read()"
   ]
  },
  {
   "cell_type": "code",
   "execution_count": 19,
   "id": "8e128641",
   "metadata": {},
   "outputs": [
    {
     "data": {
      "text/plain": [
       "<function TextIOWrapper.read(size=-1, /)>"
      ]
     },
     "execution_count": 19,
     "metadata": {},
     "output_type": "execute_result"
    }
   ],
   "source": [
    "myfile=open('myfile.txt')\n",
    "myfile.read"
   ]
  },
  {
   "cell_type": "code",
   "execution_count": 20,
   "id": "a1575bbe",
   "metadata": {},
   "outputs": [
    {
     "data": {
      "text/plain": [
       "0"
      ]
     },
     "execution_count": 20,
     "metadata": {},
     "output_type": "execute_result"
    }
   ],
   "source": [
    "myfile.seek(0)"
   ]
  },
  {
   "cell_type": "code",
   "execution_count": 8,
   "id": "37bc18c6",
   "metadata": {},
   "outputs": [
    {
     "data": {
      "text/plain": [
       "''"
      ]
     },
     "execution_count": 8,
     "metadata": {},
     "output_type": "execute_result"
    }
   ],
   "source": [
    "content =myfile.read()\n",
    "content"
   ]
  },
  {
   "cell_type": "code",
   "execution_count": 21,
   "id": "ab2368fd",
   "metadata": {},
   "outputs": [
    {
     "data": {
      "text/plain": [
       "['Hello this is th first line\\n',\n",
       " 'This is the second line\\n',\n",
       " 'This is the third line\\n',\n",
       " \"myfile =open('myfile.txt')\\n\"]"
      ]
     },
     "execution_count": 21,
     "metadata": {},
     "output_type": "execute_result"
    }
   ],
   "source": [
    "myfile.readlines()"
   ]
  },
  {
   "cell_type": "code",
   "execution_count": 22,
   "id": "801127cf",
   "metadata": {},
   "outputs": [],
   "source": [
    "#File location"
   ]
  },
  {
   "cell_type": "code",
   "execution_count": 23,
   "id": "bfa4bced",
   "metadata": {},
   "outputs": [
    {
     "data": {
      "text/plain": [
       "'C:\\\\Users\\\\MEDHAVI\\\\Desktop\\\\python'"
      ]
     },
     "execution_count": 23,
     "metadata": {},
     "output_type": "execute_result"
    }
   ],
   "source": [
    "pwd"
   ]
  },
  {
   "cell_type": "code",
   "execution_count": 5,
   "id": "571f5541",
   "metadata": {},
   "outputs": [],
   "source": [
    "sampfile=open(\"C:\\\\Users\\\\MEDHAVI\\\\Desktop\\\\sample.txt\")\n"
   ]
  },
  {
   "cell_type": "code",
   "execution_count": 6,
   "id": "807701a7",
   "metadata": {},
   "outputs": [
    {
     "data": {
      "text/plain": [
       "['sample\\n', '.txt']"
      ]
     },
     "execution_count": 6,
     "metadata": {},
     "output_type": "execute_result"
    }
   ],
   "source": [
    "var =sampfile.readlines()\n",
    "var"
   ]
  },
  {
   "cell_type": "code",
   "execution_count": null,
   "id": "b6f5a499",
   "metadata": {},
   "outputs": [],
   "source": []
  },
  {
   "cell_type": "code",
   "execution_count": null,
   "id": "c38ef5c7",
   "metadata": {},
   "outputs": [],
   "source": []
  }
 ],
 "metadata": {
  "kernelspec": {
   "display_name": "Python 3 (ipykernel)",
   "language": "python",
   "name": "python3"
  },
  "language_info": {
   "codemirror_mode": {
    "name": "ipython",
    "version": 3
   },
   "file_extension": ".py",
   "mimetype": "text/x-python",
   "name": "python",
   "nbconvert_exporter": "python",
   "pygments_lexer": "ipython3",
   "version": "3.10.9"
  }
 },
 "nbformat": 4,
 "nbformat_minor": 5
}

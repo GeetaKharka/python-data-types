{
 "cells": [
  {
   "cell_type": "code",
   "execution_count": 3,
   "id": "28dfe1bc",
   "metadata": {},
   "outputs": [
    {
     "name": "stdout",
     "output_type": "stream",
     "text": [
      "1\n",
      "2\n",
      "3\n",
      "4\n",
      "5\n",
      "6\n",
      "7\n",
      "8\n",
      "9\n"
     ]
    }
   ],
   "source": [
    "mylist=[1,2,3,4,5,6,7,8,9]\n",
    "for num in mylist:\n",
    "    print(num)"
   ]
  },
  {
   "cell_type": "code",
   "execution_count": 9,
   "id": "3e6974e7",
   "metadata": {},
   "outputs": [
    {
     "name": "stdout",
     "output_type": "stream",
     "text": [
      "she is beautiful\n"
     ]
    }
   ],
   "source": [
    "name='Geeta'\n",
    "if name=='Geeta':\n",
    "    print('she is beautiful')\n",
    "elif name=='Geeta':\n",
    "    print('okay')\n",
    "else:\n",
    "    print('she is not')"
   ]
  },
  {
   "cell_type": "code",
   "execution_count": 10,
   "id": "2b292885",
   "metadata": {},
   "outputs": [
    {
     "name": "stdout",
     "output_type": "stream",
     "text": [
      "H\n",
      "e\n",
      "l\n",
      "l\n",
      "o\n",
      " \n",
      "W\n",
      "o\n",
      "r\n",
      "l\n",
      "d\n"
     ]
    }
   ],
   "source": [
    "mystring=\"Hello World\"\n",
    "for letter in mystring:\n",
    "    print(letter)"
   ]
  },
  {
   "cell_type": "code",
   "execution_count": 13,
   "id": "6650a34b",
   "metadata": {},
   "outputs": [
    {
     "name": "stdout",
     "output_type": "stream",
     "text": [
      "Odd number :1\n",
      "2\n",
      "Odd number :3\n",
      "4\n",
      "Odd number :5\n",
      "6\n",
      "Odd number :7\n",
      "8\n",
      "Odd number :9\n",
      "10\n"
     ]
    }
   ],
   "source": [
    "mylist=[1,2,3,4,5,6,7,8,9,10]\n",
    "for num in mylist:\n",
    "    if num%2==0:\n",
    "        print(num)\n",
    "    else:\n",
    "            print (f'Odd number :{num}')\n"
   ]
  },
  {
   "cell_type": "code",
   "execution_count": 14,
   "id": "9f3e986c",
   "metadata": {},
   "outputs": [
    {
     "name": "stdout",
     "output_type": "stream",
     "text": [
      "1\n",
      "5\n",
      "10\n",
      "16\n",
      "24\n",
      "33\n",
      "40\n",
      "45\n"
     ]
    }
   ],
   "source": [
    "mylist =[1,4,5,6,8,9,7,5]\n",
    "list_sum =0\n",
    "for num in mylist:\n",
    "    list_sum =list_sum+num\n",
    "    print (list_sum)"
   ]
  },
  {
   "cell_type": "code",
   "execution_count": 17,
   "id": "a6762342",
   "metadata": {},
   "outputs": [
    {
     "name": "stdout",
     "output_type": "stream",
     "text": [
      "Happy\n",
      "Happy\n",
      "Happy\n",
      "Happy\n",
      "Happy\n",
      "Happy\n",
      "Happy\n"
     ]
    }
   ],
   "source": [
    "for _ in 'Medhavi':\n",
    "    print('Happy')"
   ]
  },
  {
   "cell_type": "code",
   "execution_count": 33,
   "id": "76014336",
   "metadata": {},
   "outputs": [
    {
     "name": "stdout",
     "output_type": "stream",
     "text": [
      "1\n",
      "2\n",
      "3\n"
     ]
    }
   ],
   "source": [
    "tup=(1,2,3)\n",
    "for item in tup:\n",
    "    print(item)"
   ]
  },
  {
   "cell_type": "code",
   "execution_count": 38,
   "id": "757b1479",
   "metadata": {},
   "outputs": [
    {
     "name": "stdout",
     "output_type": "stream",
     "text": [
      "[(7, 8), (5, 4), (8, 5)]\n",
      "[(7, 8), (5, 4), (8, 5)]\n",
      "[(7, 8), (5, 4), (8, 5)]\n"
     ]
    }
   ],
   "source": [
    "mylist =[(7,8),(5,4),(8,5)]\n",
    "for num in mylist:\n",
    "    print(mylist)\n",
    "    "
   ]
  },
  {
   "cell_type": "code",
   "execution_count": 39,
   "id": "3f894edd",
   "metadata": {},
   "outputs": [
    {
     "name": "stdout",
     "output_type": "stream",
     "text": [
      "2\n",
      "3\n",
      "3\n",
      "4\n",
      "4\n",
      "5\n"
     ]
    }
   ],
   "source": [
    "mylist =[(2,3),(3,4),(4,5)]\n",
    "for (a,b)in mylist:\n",
    "    print(a)\n",
    "    print(b)\n"
   ]
  },
  {
   "cell_type": "code",
   "execution_count": 45,
   "id": "3d72ec91",
   "metadata": {},
   "outputs": [
    {
     "name": "stdout",
     "output_type": "stream",
     "text": [
      "1\n",
      "2\n",
      "3\n"
     ]
    }
   ],
   "source": [
    "d={'k1':1,'k2':2,'k3':3}\n",
    "for item in d.values():\n",
    "    print(item)"
   ]
  },
  {
   "cell_type": "code",
   "execution_count": 46,
   "id": "e4f7af0d",
   "metadata": {},
   "outputs": [
    {
     "name": "stdout",
     "output_type": "stream",
     "text": [
      "k1\n",
      "k2\n",
      "k3\n"
     ]
    }
   ],
   "source": [
    "d={'k1':1,'k2':2,'k3':3}\n",
    "for item in d.keys():\n",
    "    print(item)"
   ]
  },
  {
   "cell_type": "code",
   "execution_count": 47,
   "id": "20731712",
   "metadata": {},
   "outputs": [
    {
     "name": "stdout",
     "output_type": "stream",
     "text": [
      "it's True\n"
     ]
    }
   ],
   "source": [
    "if True:\n",
    "    print(\"it's True\")"
   ]
  },
  {
   "cell_type": "code",
   "execution_count": 53,
   "id": "c9722987",
   "metadata": {},
   "outputs": [
    {
     "name": "stdout",
     "output_type": "stream",
     "text": [
      "Feed Me!\n"
     ]
    }
   ],
   "source": [
    "Hungry=True\n",
    "if Hungry:\n",
    "     print('Feed Me!')\n",
    "else:\n",
    "    print(\"I am not hungry\")"
   ]
  },
  {
   "cell_type": "code",
   "execution_count": 57,
   "id": "f3f75514",
   "metadata": {},
   "outputs": [
    {
     "name": "stdout",
     "output_type": "stream",
     "text": [
      "i do not know anything\n"
     ]
    }
   ],
   "source": [
    "loc ='abcd'\n",
    "if loc =='auto shop':\n",
    "    print('cars are cool')\n",
    "elif loc =='bank':\n",
    "    print('money is cool')\n",
    "else:\n",
    "        print('i do not know anything')\n",
    "    "
   ]
  },
  {
   "cell_type": "code",
   "execution_count": 54,
   "id": "00972e4a",
   "metadata": {},
   "outputs": [
    {
     "name": "stdout",
     "output_type": "stream",
     "text": [
      "I am not hungry\n"
     ]
    }
   ],
   "source": [
    "Hungry=False\n",
    "if Hungry:\n",
    "     print('Feed Me!')\n",
    "else:\n",
    "    print(\"I am not hungry\")"
   ]
  },
  {
   "cell_type": "code",
   "execution_count": 58,
   "id": "23d2a9f1",
   "metadata": {},
   "outputs": [],
   "source": [
    "#for loops"
   ]
  },
  {
   "cell_type": "code",
   "execution_count": 59,
   "id": "c7b163d1",
   "metadata": {},
   "outputs": [
    {
     "name": "stdout",
     "output_type": "stream",
     "text": [
      "2\n",
      "4\n",
      "6\n"
     ]
    }
   ],
   "source": [
    "#syntax of a for loop\n",
    "my_iterable =[2,4,6]\n",
    "for item in my_iterable:\n",
    "    print(item)"
   ]
  },
  {
   "cell_type": "code",
   "execution_count": 60,
   "id": "ef1ac00c",
   "metadata": {},
   "outputs": [
    {
     "name": "stdout",
     "output_type": "stream",
     "text": [
      "i am very sad\n",
      "i am very sad\n",
      "i am very sad\n",
      "i am very sad\n",
      "i am very sad\n",
      "i am very sad\n",
      "i am very sad\n",
      "i am very sad\n",
      "i am very sad\n",
      "i am very sad\n"
     ]
    }
   ],
   "source": [
    "mylist =[1,2,3,4,5,6,7,8,9,10]\n",
    "for num in mylist:\n",
    "    print('i am very sad')"
   ]
  },
  {
   "cell_type": "code",
   "execution_count": null,
   "id": "9a8db8d9",
   "metadata": {},
   "outputs": [],
   "source": []
  }
 ],
 "metadata": {
  "kernelspec": {
   "display_name": "Python 3 (ipykernel)",
   "language": "python",
   "name": "python3"
  },
  "language_info": {
   "codemirror_mode": {
    "name": "ipython",
    "version": 3
   },
   "file_extension": ".py",
   "mimetype": "text/x-python",
   "name": "python",
   "nbconvert_exporter": "python",
   "pygments_lexer": "ipython3",
   "version": "3.10.9"
  }
 },
 "nbformat": 4,
 "nbformat_minor": 5
}

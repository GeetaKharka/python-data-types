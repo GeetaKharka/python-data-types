{
 "cells": [
  {
   "cell_type": "code",
   "execution_count": 1,
   "id": "ba478d87",
   "metadata": {},
   "outputs": [
    {
     "name": "stdout",
     "output_type": "stream",
     "text": [
      "hello world\n"
     ]
    }
   ],
   "source": [
    "my_string='hello world'\n",
    "print(my_string)"
   ]
  },
  {
   "cell_type": "code",
   "execution_count": 15,
   "id": "40b5cd65",
   "metadata": {},
   "outputs": [],
   "source": [
    "def name_of_function():\n",
    "  \n",
    "    print('Hello Name')\n",
    "\n"
   ]
  },
  {
   "cell_type": "code",
   "execution_count": 12,
   "id": "45fad2b1",
   "metadata": {},
   "outputs": [
    {
     "name": "stdout",
     "output_type": "stream",
     "text": [
      "Hello Name\n"
     ]
    }
   ],
   "source": [
    "name_of_function()"
   ]
  },
  {
   "cell_type": "code",
   "execution_count": 32,
   "id": "2d46a122",
   "metadata": {},
   "outputs": [],
   "source": [
    "def myfunc(Boolean):\n",
    "    if Boolean ==True:\n",
    "        return \"hello\"\n",
    "    elif Boolean==False:\n",
    "        return \"goodbye\"\n"
   ]
  },
  {
   "cell_type": "code",
   "execution_count": 33,
   "id": "7073b349",
   "metadata": {},
   "outputs": [
    {
     "data": {
      "text/plain": [
       "'hello'"
      ]
     },
     "execution_count": 33,
     "metadata": {},
     "output_type": "execute_result"
    }
   ],
   "source": [
    "myfunc(True)"
   ]
  },
  {
   "cell_type": "code",
   "execution_count": 34,
   "id": "99c68aff",
   "metadata": {},
   "outputs": [
    {
     "data": {
      "text/plain": [
       "'goodbye'"
      ]
     },
     "execution_count": 34,
     "metadata": {},
     "output_type": "execute_result"
    }
   ],
   "source": [
    "myfunc(False)"
   ]
  },
  {
   "cell_type": "code",
   "execution_count": 38,
   "id": "1e7a343c",
   "metadata": {},
   "outputs": [
    {
     "ename": "SyntaxError",
     "evalue": "invalid syntax (3555452888.py, line 1)",
     "output_type": "error",
     "traceback": [
      "\u001b[1;36m  Cell \u001b[1;32mIn[38], line 1\u001b[1;36m\u001b[0m\n\u001b[1;33m    def myfunc('x','y','z'):\u001b[0m\n\u001b[1;37m               ^\u001b[0m\n\u001b[1;31mSyntaxError\u001b[0m\u001b[1;31m:\u001b[0m invalid syntax\n"
     ]
    }
   ],
   "source": [
    "def myfunc('x','y','z'):\n",
    "if z ==True:\n",
    "    return 'x'\n",
    "elif z==False\n",
    "    return 'y'\n",
    "\n",
    "myfunc(True)"
   ]
  },
  {
   "cell_type": "code",
   "execution_count": null,
   "id": "2dc0b960",
   "metadata": {},
   "outputs": [],
   "source": []
  }
 ],
 "metadata": {
  "kernelspec": {
   "display_name": "Python 3 (ipykernel)",
   "language": "python",
   "name": "python3"
  },
  "language_info": {
   "codemirror_mode": {
    "name": "ipython",
    "version": 3
   },
   "file_extension": ".py",
   "mimetype": "text/x-python",
   "name": "python",
   "nbconvert_exporter": "python",
   "pygments_lexer": "ipython3",
   "version": "3.10.9"
  }
 },
 "nbformat": 4,
 "nbformat_minor": 5
}

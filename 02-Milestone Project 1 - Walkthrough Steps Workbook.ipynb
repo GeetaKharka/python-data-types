{
 "cells": [
  {
   "cell_type": "markdown",
   "metadata": {},
   "source": [
    "# Milestone Project 1: Walkthrough Steps Workbook\n",
    "\n",
    "Below is a set of steps for you to follow to try to create the Tic Tac Toe Milestone Project game!"
   ]
  },
  {
   "cell_type": "markdown",
   "metadata": {},
   "source": [
    "#### Some suggested tools before you get started:\n",
    "To take input from a user:\n",
    "\n",
    "    player1 = input(\"Please pick a marker 'X' or 'O'\")\n",
    "    \n",
    "Note that input() takes in a string. If you need an integer value, use\n",
    "\n",
    "    position = int(input('Please enter a number'))\n",
    "    \n",
    "<br>To clear the screen between moves:\n",
    "\n",
    "    from IPython.display import clear_output\n",
    "    clear_output()\n",
    "    \n",
    "Note that clear_output() will only work in jupyter. To clear the screen in other IDEs, consider:\n",
    "\n",
    "    print('\\n'*100)\n",
    "    \n",
    "This scrolls the previous board up out of view. Now on to the program!"
   ]
  },
  {
   "cell_type": "markdown",
   "metadata": {},
   "source": [
    "**Step 1: Write a function that can print out a board. Set up your board as a list, where each index 1-9 corresponds with a number on a number pad, so you get a 3 by 3 board representation.**"
   ]
  },
  {
   "cell_type": "code",
   "execution_count": 1,
   "metadata": {},
   "outputs": [],
   "source": [
    "from IPython.display import clear_output\n",
    "\n",
    "def display_board(board):\n",
    "    clear_output()\n",
    "    print(board[7]+'|'+board[8]+'|'+ board[9])\n",
    "    print('......')\n",
    "    print(board[1]+'|'+board[2]+'|'+board[3])\n",
    "    print('.....')\n",
    "    print(board[4]+'|'+board[5]+'|'+board[6])\n",
    "    \n"
   ]
  },
  {
   "cell_type": "markdown",
   "metadata": {},
   "source": [
    "**TEST Step 1:** run your function on a test version of the board list, and make adjustments as necessary"
   ]
  },
  {
   "cell_type": "code",
   "execution_count": 2,
   "metadata": {},
   "outputs": [
    {
     "name": "stdout",
     "output_type": "stream",
     "text": [
      "X|O|X\n",
      "......\n",
      "X|O|X\n",
      ".....\n",
      "O|X|O\n"
     ]
    }
   ],
   "source": [
    "test_board = ['#','X','O','X','O','X','O','X','O','X']\n",
    "display_board(test_board)"
   ]
  },
  {
   "cell_type": "markdown",
   "metadata": {},
   "source": [
    "**Step 2: Write a function that can take in a player input and assign their marker as 'X' or 'O'. Think about using *while* loops to continually ask until you get a correct answer.**"
   ]
  },
  {
   "cell_type": "code",
   "execution_count": 3,
   "metadata": {},
   "outputs": [],
   "source": [
    "def player_input():\n",
    "    marker=''\n",
    "    while marker!='X'and marker!='O':\n",
    "        marker=input('player,choose X or O:').upper()\n",
    "        player1=marker\n",
    "        if player1 =='O':\n",
    "            player2='X'\n",
    "        else:\n",
    "            player2='O'\n",
    "        return(player1,player2)\n",
    "    \n",
    "    \n"
   ]
  },
  {
   "cell_type": "markdown",
   "metadata": {},
   "source": [
    "**TEST Step 2:** run the function to make sure it returns the desired output"
   ]
  },
  {
   "cell_type": "code",
   "execution_count": 4,
   "metadata": {},
   "outputs": [
    {
     "name": "stdout",
     "output_type": "stream",
     "text": [
      "player,choose X or O:X\n"
     ]
    },
    {
     "data": {
      "text/plain": [
       "('X', 'O')"
      ]
     },
     "execution_count": 4,
     "metadata": {},
     "output_type": "execute_result"
    }
   ],
   "source": [
    "player_input()"
   ]
  },
  {
   "cell_type": "markdown",
   "metadata": {},
   "source": [
    "\n",
    "\n",
    "\n",
    "**Step 3: Write a function that takes in the board list object, a marker ('X' or 'O'), and a desired position (number 1-9) and assigns it to the board.**"
   ]
  },
  {
   "cell_type": "code",
   "execution_count": 5,
   "metadata": {},
   "outputs": [],
   "source": [
    "def place_marker(board, marker, position):\n",
    "    board[position]=marker\n",
    "    \n",
    "   "
   ]
  },
  {
   "cell_type": "markdown",
   "metadata": {},
   "source": [
    "**TEST Step 3:** run the place marker function using test parameters and display the modified board"
   ]
  },
  {
   "cell_type": "code",
   "execution_count": 6,
   "metadata": {},
   "outputs": [
    {
     "name": "stdout",
     "output_type": "stream",
     "text": [
      "X|$|X\n",
      "......\n",
      "X|O|X\n",
      ".....\n",
      "O|X|O\n"
     ]
    }
   ],
   "source": [
    "place_marker(test_board,'$',8)\n",
    "display_board(test_board)"
   ]
  },
  {
   "cell_type": "markdown",
   "metadata": {},
   "source": [
    "**Step 4: Write a function that takes in a board and a mark (X or O) and then checks to see if that mark has won. **"
   ]
  },
  {
   "cell_type": "code",
   "execution_count": 7,
   "metadata": {},
   "outputs": [],
   "source": [
    "def win_check(board, mark):\n",
    "    return( (mark==board[1]==board[2]==board[3]) or\n",
    "    (mark==board[6]==board[7]==board[8])or\n",
    "    (mark==board[4]==board[5]==board[6])or\n",
    "    (mark==board[1]==board[2]==board[3])or\n",
    "    (mark==board[2]==board[3]==board[4])or\n",
    "    (mark==board[5]==board[6]==board[7])or\n",
    "    (mark==board[6]==board[7]==board[8]))\n",
    "\n",
    "\n",
    "\n",
    "    "
   ]
  },
  {
   "cell_type": "markdown",
   "metadata": {},
   "source": [
    "**TEST Step 4:** run the win_check function against our test_board - it should return True"
   ]
  },
  {
   "cell_type": "code",
   "execution_count": 8,
   "metadata": {},
   "outputs": [
    {
     "data": {
      "text/plain": [
       "False"
      ]
     },
     "execution_count": 8,
     "metadata": {},
     "output_type": "execute_result"
    }
   ],
   "source": [
    "win_check(test_board,'X')"
   ]
  },
  {
   "cell_type": "code",
   "execution_count": 9,
   "metadata": {},
   "outputs": [
    {
     "data": {
      "text/plain": [
       "False"
      ]
     },
     "execution_count": 9,
     "metadata": {},
     "output_type": "execute_result"
    }
   ],
   "source": [
    "win_check(test_board,'O')"
   ]
  },
  {
   "cell_type": "markdown",
   "metadata": {},
   "source": [
    "**Step 5: Write a function that uses the random module to randomly decide which player goes first. You may want to lookup random.randint() Return a string of which player went first.**"
   ]
  },
  {
   "cell_type": "code",
   "execution_count": 10,
   "metadata": {},
   "outputs": [],
   "source": [
    "import random\n",
    "\n",
    "def choose_first():\n",
    "    if random.randint(0,2)==0:\n",
    "        return'Player1'\n",
    "    else:\n",
    "        return'Player2'\n",
    "    \n",
    "    "
   ]
  },
  {
   "cell_type": "markdown",
   "metadata": {},
   "source": [
    "**Step 6: Write a function that returns a boolean indicating whether a space on the board is freely available.**"
   ]
  },
  {
   "cell_type": "code",
   "execution_count": 11,
   "metadata": {},
   "outputs": [],
   "source": [
    "def space_check(board, position):\n",
    "    return board[position]==''"
   ]
  },
  {
   "cell_type": "markdown",
   "metadata": {},
   "source": [
    "**Step 7: Write a function that checks if the board is full and returns a boolean value. True if full, False otherwise.**"
   ]
  },
  {
   "cell_type": "code",
   "execution_count": 12,
   "metadata": {},
   "outputs": [],
   "source": [
    "def full_board_check(board):\n",
    "    for i in  range(1,10):\n",
    "        if space_check(board,i):\n",
    "            return False\n",
    "        return True"
   ]
  },
  {
   "cell_type": "markdown",
   "metadata": {},
   "source": [
    "**Step 8: Write a function that asks for a player's next position (as a number 1-9) and then uses the function from step 6 to check if it's a free position. If it is, then return the position for later use.**"
   ]
  },
  {
   "cell_type": "code",
   "execution_count": 13,
   "metadata": {},
   "outputs": [],
   "source": [
    "def player_choice(board):\n",
    "    position=0\n",
    "    while position not in [1,2,3,4,5,6,7,8,9]or not space_check(board,position):\n",
    "        position=int(input('Enter the position between 1 to 9'))\n",
    "        return position"
   ]
  },
  {
   "cell_type": "markdown",
   "metadata": {},
   "source": [
    "**Step 9: Write a function that asks the player if they want to play again and returns a boolean True if they do want to play again.**"
   ]
  },
  {
   "cell_type": "code",
   "execution_count": 14,
   "metadata": {},
   "outputs": [],
   "source": [
    "def replay():\n",
    "    choice=input('Play again? Enter yes or no')\n",
    "    return choice=='yes'\n",
    "    "
   ]
  },
  {
   "cell_type": "markdown",
   "metadata": {
    "collapsed": true
   },
   "source": [
    "**Step 10: Here comes the hard part! Use while loops and the functions you've made to run the game!**"
   ]
  },
  {
   "cell_type": "code",
   "execution_count": 15,
   "metadata": {},
   "outputs": [
    {
     "name": "stdout",
     "output_type": "stream",
     "text": [
      "Welcome to Tic Tac Toe!\n"
     ]
    }
   ],
   "source": [
    "print('Welcome to Tic Tac Toe!')\n",
    "\n",
    "#while True:\n",
    "    # Set the game up here\n",
    "    #pass\n",
    "\n",
    "    #while game_on:\n",
    "        #Player 1 Turn\n",
    "        \n",
    "        \n",
    "        # Player2's turn.\n",
    "            \n",
    "            #pass\n",
    "\n",
    "    #if not replay():\n",
    "        #break"
   ]
  },
  {
   "cell_type": "code",
   "execution_count": 17,
   "metadata": {},
   "outputs": [
    {
     "name": "stdout",
     "output_type": "stream",
     "text": [
      "Hello! Welcome to Pam's Tic Tac Toe game!\n",
      "\n",
      "\n",
      "Rules: Player 1 and player 2, represented by X and O, take turns marking the spaces in a 3*3 grid. The player who succeeds in placing three of their marks in a horizontal, vertical, or diagonal row wins.\n",
      "\n",
      "\n",
      "Press enter to continue.\n",
      "\n",
      "\n",
      "Here is the playboard: \n",
      "---+---+---\n",
      "   |   |  \n",
      "---+---+---\n",
      "   |   |  \n",
      "---+---+---\n",
      "   |   |  \n",
      "---+---+---\n",
      "Player 1, do you want to be X or O? o\n",
      "Player 2, you are X. \n",
      "Press enter to continue.\n",
      "\n",
      "\n",
      "Player X, it is your turn. \n",
      "choose a number0\n",
      "Select the column:1\n",
      "---+---+---\n",
      "   | X |  \n",
      "---+---+---\n",
      "   |   |  \n",
      "---+---+---\n",
      "   |   |  \n",
      "---+---+---\n",
      "Player o, it is your turn. \n",
      "choose a number0\n",
      "Select the column:0\n",
      "---+---+---\n",
      "o  | X |  \n",
      "---+---+---\n",
      "   |   |  \n",
      "---+---+---\n",
      "   |   |  \n",
      "---+---+---\n",
      "Player X, it is your turn. \n",
      "choose a number2\n",
      "Select the column:2\n",
      "---+---+---\n",
      "o  | X |  \n",
      "---+---+---\n",
      "   |   |  \n",
      "---+---+---\n",
      "   |   | X\n",
      "---+---+---\n",
      "Player o, it is your turn. \n",
      "choose a number2\n",
      "Select the column:0\n",
      "---+---+---\n",
      "o  | X |  \n",
      "---+---+---\n",
      "   |   |  \n",
      "---+---+---\n",
      "o  |   | X\n",
      "---+---+---\n",
      "Player X, it is your turn. \n",
      "choose a number1\n",
      "Select the column:2\n",
      "---+---+---\n",
      "o  | X |  \n",
      "---+---+---\n",
      "   |   | X\n",
      "---+---+---\n",
      "o  |   | X\n",
      "---+---+---\n",
      "Player o, it is your turn. \n",
      "choose a number1\n",
      "Select the column:0\n",
      "---+---+---\n",
      "o  | X |  \n",
      "---+---+---\n",
      "o  |   | X\n",
      "---+---+---\n",
      "o  |   | X\n",
      "---+---+---\n",
      "Player o, you won!\n",
      "Game over.\n",
      "\n",
      "\n",
      "Press enter to see the game summary. \n",
      "Winner : Player o.\n"
     ]
    }
   ],
   "source": [
    "# Pam Qian 2016 Fall CS 112 Python Midterm Project II\n",
    "# Tic Tack Toe \n",
    "\n",
    "def main():\n",
    "# The main function\n",
    "    introduction = intro()\n",
    "    board = create_grid()\n",
    "    pretty = printPretty(board)\n",
    "    symbol_1, symbol_2 = sym()\n",
    "    full = isFull(board, symbol_1, symbol_2) # The function that starts the game is also in here.\n",
    "    \n",
    "\n",
    "    \n",
    "\n",
    "\n",
    "def intro():\n",
    "# This function introduces the rules of the game Tic Tac Toe\n",
    "    print(\"Hello! Welcome to Pam's Tic Tac Toe game!\")\n",
    "    print(\"\\n\")\n",
    "    print(\"Rules: Player 1 and player 2, represented by X and O, take turns \"\n",
    "          \"marking the spaces in a 3*3 grid. The player who succeeds in placing \"\n",
    "          \"three of their marks in a horizontal, vertical, or diagonal row wins.\")\n",
    "    print(\"\\n\")\n",
    "    input(\"Press enter to continue.\")\n",
    "    print(\"\\n\")\n",
    "\n",
    "\n",
    "\n",
    "def create_grid():\n",
    "# This function creates a blank playboard\n",
    "    print(\"Here is the playboard: \")\n",
    "    board = [[\" \", \" \", \" \"],\n",
    "             [\" \", \" \", \" \"],\n",
    "             [\" \", \" \", \" \"]]        \n",
    "    return board\n",
    "\n",
    "\n",
    "\n",
    "def sym():\n",
    "# This function decides the players' symbols\n",
    "    symbol_1 = input(\"Player 1, do you want to be X or O? \")\n",
    "    if symbol_1 == \"X\":\n",
    "        symbol_2 = \"O\"\n",
    "        print(\"Player 2, you are O. \")\n",
    "    else:\n",
    "        symbol_2 = \"X\"\n",
    "        print(\"Player 2, you are X. \")\n",
    "    input(\"Press enter to continue.\")\n",
    "    print(\"\\n\")\n",
    "    return (symbol_1, symbol_2)\n",
    "\n",
    "\n",
    "\n",
    "def startGamming(board, symbol_1, symbol_2, count):\n",
    "# This function starts the game.\n",
    "\n",
    "    # Decides the turn\n",
    "    if count % 2 == 0:\n",
    "        player = symbol_1\n",
    "    elif count % 2 == 1:\n",
    "        player = symbol_2\n",
    "    print(\"Player \"+ player + \", it is your turn. \")\n",
    "    row = int(input(\"choose a number\"))\n",
    "                   \n",
    "    column = int(input(\"Select the column:\"))\n",
    "                       \n",
    "\n",
    "    # Check if players' selection is out of range\n",
    "    while (row > 2 or row < 0) or (column > 2 or column < 0):\n",
    "        outOfBoard(row, column)\n",
    "        row = int(input(\"choose the number:\"))\n",
    "                        \n",
    "        column = int(input(\"Select the column:\"))\n",
    "                           \n",
    "        # Check if the square is already filled\n",
    "    while (board[row][column] == symbol_1)or (board[row][column] == symbol_2):\n",
    "        filled = illegal(board, symbol_1, symbol_2, row, column)\n",
    "        row = int(input(\"Choose the number:\"))\n",
    "                        \n",
    "        column = int(input(\"Select the column:\"))\n",
    "                           \n",
    "    # Locates player's symbol on the board\n",
    "    if player == symbol_1:\n",
    "        board[row][column] = symbol_1\n",
    "            \n",
    "    else:\n",
    "        board[row][column] = symbol_2\n",
    "    \n",
    "    return (board)\n",
    "\n",
    "\n",
    "\n",
    "def isFull(board, symbol_1, symbol_2):\n",
    "    count = 1\n",
    "    winner = True\n",
    "# This function check if the board is full\n",
    "    while count < 10 and winner == True:\n",
    "        gaming = startGamming(board, symbol_1, symbol_2, count)\n",
    "        pretty = printPretty(board)\n",
    "        \n",
    "        if count == 9:\n",
    "            print(\"The board is full. Game over.\")\n",
    "            if winner == True:\n",
    "                print(\"There is a tie. \")\n",
    "\n",
    "        # Check if here is a winner\n",
    "        winner = isWinner(board, symbol_1, symbol_2, count)\n",
    "        count += 1\n",
    "    if winner == False:\n",
    "        print(\"Game over.\")\n",
    "        \n",
    "    # This is function gives a report \n",
    "    report(count, winner, symbol_1, symbol_2)\n",
    "\n",
    "\n",
    "\n",
    "def outOfBoard(row, column):\n",
    "# This function tells the players that their selection is out of range\n",
    "    print(\"Out of boarder. Pick another one. \")\n",
    "    \n",
    "    \n",
    "\n",
    "def printPretty(board):\n",
    "# This function prints the board nice!\n",
    "    rows = len(board)\n",
    "    cols = len(board)\n",
    "    print(\"---+---+---\")\n",
    "    for r in range(rows):\n",
    "        print(board[r][0], \" |\", board[r][1], \"|\", board[r][2])\n",
    "        print(\"---+---+---\")\n",
    "    return board\n",
    "\n",
    "\n",
    "\n",
    "def isWinner(board, symbol_1, symbol_2, count):\n",
    "# This function checks if any winner is winning\n",
    "    winner = True\n",
    "    # Check the rows\n",
    "    for row in range (0, 3):\n",
    "        if (board[row][0] == board[row][1] == board[row][2] == symbol_1):\n",
    "            winner = False\n",
    "            print(\"Player \" + symbol_1 + \", you won!\")\n",
    "   \n",
    "        elif (board[row][0] == board[row][1] == board[row][2] == symbol_2):\n",
    "            winner = False\n",
    "            print(\"Player \" + symbol_2 + \", you won!\")\n",
    "            \n",
    "            \n",
    "    # Check the columns\n",
    "    for col in range (0, 3):\n",
    "        if (board[0][col] == board[1][col] == board[2][col] == symbol_1):\n",
    "            winner = False\n",
    "            print(\"Player \" + symbol_1 + \", you won!\")\n",
    "        elif (board[0][col] == board[1][col] == board[2][col] == symbol_2):\n",
    "            winner = False\n",
    "            print(\"Player \" + symbol_2 + \", you won!\")\n",
    "\n",
    "    # Check the diagnoals\n",
    "    if board[0][0] == board[1][1] == board[2][2] == symbol_1:\n",
    "        winner = False \n",
    "        print(\"Player \" + symbol_1 + \", you won!\")\n",
    "\n",
    "    elif board[0][0] == board[1][1] == board[2][2] == symbol_2:\n",
    "        winner = False\n",
    "        print(\"Player \" + symbol_2 + \", you won!\")\n",
    "\n",
    "    elif board[0][2] == board[1][1] == board[2][0] == symbol_1:\n",
    "        winner = False\n",
    "        print(\"Player \" + symbol_1 + \", you won!\")\n",
    "\n",
    "    elif board[0][2] == board[1][1] == board[2][0] == symbol_2:\n",
    "        winner = False\n",
    "        print(\"Player \" + symbol_2 + \", you won!\")\n",
    "\n",
    "    return winner\n",
    "    \n",
    "\n",
    "\n",
    "def illegal(board, symbol_1, symbol_2, row, column):\n",
    "    print(\"The square you picked is already filled. Pick another one.\")\n",
    "\n",
    "    \n",
    "def report(count, winner, symbol_1, symbol_2):\n",
    "    print(\"\\n\")\n",
    "    input(\"Press enter to see the game summary. \")\n",
    "    if (winner == False) and (count % 2 == 1 ):\n",
    "        print(\"Winner : Player \" + symbol_1 + \".\")\n",
    "    elif (winner == False) and (count % 2 == 0 ):\n",
    "        print(\"Winner : Player \" + symbol_2 + \".\")\n",
    "    else:\n",
    "        print(\"There is a tie. \")\n",
    "\n",
    "# Call Main\n",
    "main()\n"
   ]
  },
  {
   "cell_type": "code",
   "execution_count": null,
   "metadata": {},
   "outputs": [],
   "source": []
  },
  {
   "cell_type": "code",
   "execution_count": null,
   "metadata": {},
   "outputs": [],
   "source": []
  },
  {
   "cell_type": "code",
   "execution_count": null,
   "metadata": {},
   "outputs": [],
   "source": []
  },
  {
   "cell_type": "code",
   "execution_count": null,
   "metadata": {},
   "outputs": [],
   "source": []
  }
 ],
 "metadata": {
  "kernelspec": {
   "display_name": "Python 3 (ipykernel)",
   "language": "python",
   "name": "python3"
  },
  "language_info": {
   "codemirror_mode": {
    "name": "ipython",
    "version": 3
   },
   "file_extension": ".py",
   "mimetype": "text/x-python",
   "name": "python",
   "nbconvert_exporter": "python",
   "pygments_lexer": "ipython3",
   "version": "3.10.9"
  }
 },
 "nbformat": 4,
 "nbformat_minor": 1
}

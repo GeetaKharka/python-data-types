{
 "cells": [
  {
   "cell_type": "code",
   "execution_count": 2,
   "id": "9d76a4a8",
   "metadata": {},
   "outputs": [
    {
     "name": "stdout",
     "output_type": "stream",
     "text": [
      "Enter a number: 5665\n",
      "The number is not an Armstrong number\n"
     ]
    }
   ],
   "source": [
    "def is_armstrong_number(number):\n",
    "    num_str = str(number)\n",
    "    num_digits = len(num_str)\n",
    "    sum_of_powers = sum(int(digit)**num_digits for digit in num_str)\n",
    "    return sum_of_powers == number\n",
    "\n",
    "# Get input from the user\n",
    "try:\n",
    "    input_number = int(input(\"Enter a number: \"))\n",
    "    if is_armstrong_number(input_number):\n",
    "        print(\"The number is an Armstrong number\")\n",
    "    else:\n",
    "        print(\"The number is not an Armstrong number\")\n",
    "except ValueError:\n",
    "    print(\"Invalid input. Please enter a valid integer.\")\n",
    "\n",
    "\n",
    "\n",
    "\n",
    "\n",
    "\n"
   ]
  },
  {
   "cell_type": "code",
   "execution_count": 3,
   "id": "d66954b2",
   "metadata": {},
   "outputs": [
    {
     "name": "stdout",
     "output_type": "stream",
     "text": [
      "Enter the principal amount: 100\n",
      "Enter the rate of interest (in percentage): 50\n",
      "Enter the time period (in years): 5\n",
      "The Compound Interest is 659.375\n"
     ]
    }
   ],
   "source": [
    "def calculate_compound_interest(principal, rate, time):\n",
    "    compound_interest = principal * (1 + rate/100)**time - principal\n",
    "    return compound_interest\n",
    "\n",
    "# Get input from the user\n",
    "try:\n",
    "    principal = float(input(\"Enter the principal amount: \"))\n",
    "    rate = float(input(\"Enter the rate of interest (in percentage): \"))\n",
    "    time = float(input(\"Enter the time period (in years): \"))\n",
    "    \n",
    "    compound_interest = calculate_compound_interest(principal, rate, time)\n",
    "    print(\"The Compound Interest is\", compound_interest)\n",
    "except ValueError:\n",
    "    print(\"Invalid input. Please enter valid numeric values.\")\n"
   ]
  },
  {
   "cell_type": "code",
   "execution_count": 4,
   "id": "c7a43a5f",
   "metadata": {},
   "outputs": [
    {
     "name": "stdout",
     "output_type": "stream",
     "text": [
      "Enter the value of 'n': 2\n",
      "The sum of cubes of the first 2 natural numbers is: 9\n"
     ]
    }
   ],
   "source": [
    "def sum_of_cubes(n):\n",
    "    return sum(i**3 for i in range(1, n+1))\n",
    "\n",
    "# Get input from the user\n",
    "try:\n",
    "    n = int(input(\"Enter the value of 'n': \"))\n",
    "    if n <= 0:\n",
    "        print(\"Please enter a positive integer.\")\n",
    "    else:\n",
    "        result = sum_of_cubes(n)\n",
    "        print(\"The sum of cubes of the first\", n, \"natural numbers is:\", result)\n",
    "except ValueError:\n",
    "    print(\"Invalid input. Please enter a valid integer.\")"
   ]
  },
  {
   "cell_type": "code",
   "execution_count": 5,
   "id": "00d0eb3e",
   "metadata": {},
   "outputs": [
    {
     "name": "stdout",
     "output_type": "stream",
     "text": [
      "Enter the value of 'n': 12\n",
      "The Fibonacci sequence up to the 12 term(s) is: [0, 1, 1, 2, 3, 5, 8, 13, 21, 34, 55, 89]\n"
     ]
    }
   ],
   "source": [
    "def fibonacci_sequence(n):\n",
    "    fib_sequence = [0, 1]\n",
    "    for i in range(2, n):\n",
    "        next_fib = fib_sequence[i-1] + fib_sequence[i-2]\n",
    "        fib_sequence.append(next_fib)\n",
    "    return fib_sequence\n",
    "\n",
    "# Get input from the user\n",
    "try:\n",
    "    n = int(input(\"Enter the value of 'n': \"))\n",
    "    if n <= 0:\n",
    "        print(\"Please enter a positive integer.\")\n",
    "    else:\n",
    "        result = fibonacci_sequence(n)\n",
    "        print(\"The Fibonacci sequence up to the\", n, \"term(s) is:\", result)\n",
    "except ValueError:\n",
    "    print(\"Invalid input. Please enter a valid integer.\")\n",
    "\n",
    "\n",
    "\n",
    "\n",
    "\n",
    "\n"
   ]
  },
  {
   "cell_type": "code",
   "execution_count": 6,
   "id": "c91853f9",
   "metadata": {},
   "outputs": [
    {
     "name": "stdout",
     "output_type": "stream",
     "text": [
      "Enter a sentence: GEETA\n",
      "Pig Latin conversion: EETAGay\n"
     ]
    }
   ],
   "source": [
    "def pig_latin(word):\n",
    "    if word.isalpha():\n",
    "        vowels = \"aeiou\"\n",
    "        if word[0].lower() in vowels:\n",
    "            return word + \"way\"\n",
    "        else:\n",
    "            for i, char in enumerate(word):\n",
    "                if char.lower() in vowels:\n",
    "                    return word[i:] + word[:i] + \"ay\"\n",
    "        return word  # No vowels, return the word as is\n",
    "    return word  # Non-alphabet characters, return the word as is\n",
    "\n",
    "# Get input from the user\n",
    "try:\n",
    "    sentence = input(\"Enter a sentence: \")\n",
    "    words = sentence.split()\n",
    "    \n",
    "    pig_latin_words = [pig_latin(word) for word in words]\n",
    "    pig_latin_sentence = ' '.join(pig_latin_words)\n",
    "    \n",
    "    print(\"Pig Latin conversion:\", pig_latin_sentence)\n",
    "except ValueError:\n",
    "    print(\"Invalid input.\")\n"
   ]
  },
  {
   "cell_type": "code",
   "execution_count": 7,
   "id": "8efa47d9",
   "metadata": {},
   "outputs": [
    {
     "name": "stdout",
     "output_type": "stream",
     "text": [
      "Enter the length of the rectangle: 23\n",
      "Enter the width of the rectangle: 23\n",
      "The perimeter of the rectangle is 92.0\n"
     ]
    }
   ],
   "source": [
    "def calculate_rectangle_perimeter(length, width):\n",
    "    perimeter = 2 * (length + width)\n",
    "    return perimeter\n",
    "\n",
    "# Get input from the user\n",
    "try:\n",
    "    length = float(input(\"Enter the length of the rectangle: \"))\n",
    "    width = float(input(\"Enter the width of the rectangle: \"))\n",
    "    \n",
    "    perimeter = calculate_rectangle_perimeter(length, width)\n",
    "    print(\"The perimeter of the rectangle is\", perimeter)\n",
    "except ValueError:\n",
    "    print(\"Invalid input. Please enter valid numeric values.\")\n",
    "\n",
    "\n",
    "\n",
    "\n",
    "\n"
   ]
  },
  {
   "cell_type": "code",
   "execution_count": 8,
   "id": "2058d099",
   "metadata": {},
   "outputs": [
    {
     "name": "stdout",
     "output_type": "stream",
     "text": [
      "Enter the radius of the circle: 3\n",
      "The circumference of the circle is 18.8496 (approx)\n"
     ]
    }
   ],
   "source": [
    "def calculate_circle_circumference(radius):\n",
    "    pi = 3.1416\n",
    "    circumference = 2 * pi * radius\n",
    "    return circumference\n",
    "\n",
    "# Get input from the user\n",
    "try:\n",
    "    radius = float(input(\"Enter the radius of the circle: \"))\n",
    "    \n",
    "    circumference = calculate_circle_circumference(radius)\n",
    "    print(\"The circumference of the circle is\", circumference, \"(approx)\")\n",
    "except ValueError:\n",
    "    print(\"Invalid input. Please enter a valid numeric value.\")"
   ]
  },
  {
   "cell_type": "code",
   "execution_count": 9,
   "id": "681a0447",
   "metadata": {},
   "outputs": [
    {
     "name": "stdout",
     "output_type": "stream",
     "text": [
      "Enter the value of 'n': 45\n",
      "The sum of squares of the first 45 natural numbers is: 31395\n"
     ]
    }
   ],
   "source": [
    "def sum_of_squares(n):\n",
    "    return sum(i**2 for i in range(1, n+1))\n",
    "\n",
    "# Get input from the user\n",
    "try:\n",
    "    n = int(input(\"Enter the value of 'n': \"))\n",
    "    if n <= 0:\n",
    "        print(\"Please enter a positive integer.\")\n",
    "    else:\n",
    "        result = sum_of_squares(n)\n",
    "        print(\"The sum of squares of the first\", n, \"natural numbers is:\", result)\n",
    "except ValueError:\n",
    "    print(\"Invalid input. Please enter a valid integer.\")"
   ]
  },
  {
   "cell_type": "code",
   "execution_count": null,
   "id": "b0f6cc8c",
   "metadata": {},
   "outputs": [],
   "source": []
  }
 ],
 "metadata": {
  "kernelspec": {
   "display_name": "Python 3 (ipykernel)",
   "language": "python",
   "name": "python3"
  },
  "language_info": {
   "codemirror_mode": {
    "name": "ipython",
    "version": 3
   },
   "file_extension": ".py",
   "mimetype": "text/x-python",
   "name": "python",
   "nbconvert_exporter": "python",
   "pygments_lexer": "ipython3",
   "version": "3.10.9"
  }
 },
 "nbformat": 4,
 "nbformat_minor": 5
}

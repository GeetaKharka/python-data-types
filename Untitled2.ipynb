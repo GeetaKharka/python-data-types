{
 "cells": [
  {
   "cell_type": "code",
   "execution_count": 9,
   "id": "bf9108a7",
   "metadata": {},
   "outputs": [],
   "source": [
    "class Account:\n",
    "    def __init__(self,owner,balance):\n",
    "        self.owner = owner\n",
    "        self.balance = balance\n",
    "         print('account owner{} and account balance {}'.format(self.owner,balance))"
   ]
  },
  {
   "cell_type": "code",
   "execution_count": 13,
   "id": "a31c2aa2",
   "metadata": {},
   "outputs": [],
   "source": [
    "my_account = Account(owner = 'Geeta', balance = 200)"
   ]
  },
  {
   "cell_type": "code",
   "execution_count": 20,
   "id": "042bba9f",
   "metadata": {},
   "outputs": [
    {
     "ename": "AttributeError",
     "evalue": "'Account' object has no attribute 'owner'",
     "output_type": "error",
     "traceback": [
      "\u001b[1;31m---------------------------------------------------------------------------\u001b[0m",
      "\u001b[1;31mAttributeError\u001b[0m                            Traceback (most recent call last)",
      "Cell \u001b[1;32mIn[20], line 1\u001b[0m\n\u001b[1;32m----> 1\u001b[0m \u001b[43mmy_account\u001b[49m\u001b[38;5;241;43m.\u001b[39;49m\u001b[43mowner\u001b[49m()\n",
      "\u001b[1;31mAttributeError\u001b[0m: 'Account' object has no attribute 'owner'"
     ]
    }
   ],
   "source": [
    "my_account.owner()"
   ]
  },
  {
   "cell_type": "code",
   "execution_count": 19,
   "id": "d1d575a0",
   "metadata": {},
   "outputs": [
    {
     "data": {
      "text/plain": [
       "200"
      ]
     },
     "execution_count": 19,
     "metadata": {},
     "output_type": "execute_result"
    }
   ],
   "source": [
    "my_account.balance"
   ]
  },
  {
   "cell_type": "code",
   "execution_count": null,
   "id": "e088e4e7",
   "metadata": {},
   "outputs": [],
   "source": [
    " print('Woof!my name is{} and number is{}'.format(self.name,number))"
   ]
  }
 ],
 "metadata": {
  "kernelspec": {
   "display_name": "Python 3 (ipykernel)",
   "language": "python",
   "name": "python3"
  },
  "language_info": {
   "codemirror_mode": {
    "name": "ipython",
    "version": 3
   },
   "file_extension": ".py",
   "mimetype": "text/x-python",
   "name": "python",
   "nbconvert_exporter": "python",
   "pygments_lexer": "ipython3",
   "version": "3.10.9"
  }
 },
 "nbformat": 4,
 "nbformat_minor": 5
}

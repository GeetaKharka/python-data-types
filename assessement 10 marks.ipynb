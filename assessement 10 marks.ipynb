{
 "cells": [
  {
   "cell_type": "code",
   "execution_count": 49,
   "id": "8e4c9f3a",
   "metadata": {},
   "outputs": [],
   "source": [
    "def reverse_file_content(input_file, output_file):\n",
    "    with open(input_file, 'r') as file:\n",
    "        lines = file.readlines()\n",
    "        lines.reverse()\n",
    "\n",
    "    with open(output_file, 'w') as file:\n",
    "        file.writelines(lines)\n",
    "        input_file = 'input.txt'\n",
    "        output_file = 'output.txt'\n",
    "        reverse_file_content(input_file,output_file)\n",
    "        \n"
   ]
  },
  {
   "cell_type": "code",
   "execution_count": 50,
   "id": "8b6dc268",
   "metadata": {},
   "outputs": [],
   "source": [
    "file=open('input.txt','w')\n",
    "file.write('Geeta Chettri')\n",
    "file.close()"
   ]
  },
  {
   "cell_type": "code",
   "execution_count": 47,
   "id": "e93d3357",
   "metadata": {},
   "outputs": [],
   "source": [
    "file=open('input.txt','r')\n",
    "contents=file.read()"
   ]
  },
  {
   "cell_type": "code",
   "execution_count": 44,
   "id": "95d17c52",
   "metadata": {},
   "outputs": [
    {
     "name": "stdout",
     "output_type": "stream",
     "text": [
      "irttehC ateeG\n"
     ]
    }
   ],
   "source": [
    "print(contents[::-1])\n",
    "file.close()"
   ]
  },
  {
   "cell_type": "code",
   "execution_count": 76,
   "id": "367eb67c",
   "metadata": {},
   "outputs": [
    {
     "name": "stdout",
     "output_type": "stream",
     "text": [
      "Area: 78.53981633974483\n",
      "Circumference: 31.41592653589793\n"
     ]
    }
   ],
   "source": [
    "import math\n",
    "\n",
    "class Circle:\n",
    "    def __init__(self, radius=1):\n",
    "        self.radius = radius\n",
    "\n",
    "    def area(self):\n",
    "        return math.pi * self.radius**2\n",
    "\n",
    "    def circumference(self):\n",
    "        return 2 * math.pi * self.radius\n",
    "\n",
    "def main():\n",
    "    circle = Circle(5)\n",
    "    print(f'Area: {circle.area()}')\n",
    "    print(f'Circumference: {circle.circumference()}')\n",
    "\n",
    "if __name__ == '__main__':\n",
    "    main()"
   ]
  },
  {
   "cell_type": "code",
   "execution_count": null,
   "id": "40d5e260",
   "metadata": {},
   "outputs": [],
   "source": []
  },
  {
   "cell_type": "code",
   "execution_count": null,
   "id": "9f6c5277",
   "metadata": {},
   "outputs": [],
   "source": []
  }
 ],
 "metadata": {
  "kernelspec": {
   "display_name": "Python 3 (ipykernel)",
   "language": "python",
   "name": "python3"
  },
  "language_info": {
   "codemirror_mode": {
    "name": "ipython",
    "version": 3
   },
   "file_extension": ".py",
   "mimetype": "text/x-python",
   "name": "python",
   "nbconvert_exporter": "python",
   "pygments_lexer": "ipython3",
   "version": "3.10.9"
  }
 },
 "nbformat": 4,
 "nbformat_minor": 5
}

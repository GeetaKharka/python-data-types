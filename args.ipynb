{
 "cells": [
  {
   "cell_type": "code",
   "execution_count": 12,
   "id": "aeab20ff",
   "metadata": {},
   "outputs": [],
   "source": [
    "def myfunc(a,b):\n",
    "    return sum((a,b)) * 0.05"
   ]
  },
  {
   "cell_type": "code",
   "execution_count": 13,
   "id": "9f26d79b",
   "metadata": {},
   "outputs": [
    {
     "data": {
      "text/plain": [
       "1.5"
      ]
     },
     "execution_count": 13,
     "metadata": {},
     "output_type": "execute_result"
    }
   ],
   "source": [
    "myfunc(10,20)"
   ]
  },
  {
   "cell_type": "code",
   "execution_count": 26,
   "id": "b91700b9",
   "metadata": {},
   "outputs": [
    {
     "name": "stdout",
     "output_type": "stream",
     "text": [
      "10\n",
      "20\n",
      "30\n",
      "40\n",
      "78\n",
      "80\n"
     ]
    }
   ],
   "source": [
    "def myfunc(*args):\n",
    "     for item in args:\n",
    "        print(item)\n",
    "myfunc(10,20,30,40,78,80)"
   ]
  },
  {
   "cell_type": "code",
   "execution_count": 24,
   "id": "e2f476df",
   "metadata": {},
   "outputs": [
    {
     "data": {
      "text/plain": [
       "100.0"
      ]
     },
     "execution_count": 24,
     "metadata": {},
     "output_type": "execute_result"
    }
   ],
   "source": [
    "def myfunc(a,b,c,d):\n",
    "    return sum((a,b,c,d)) *1.0\n",
    "myfunc(10,20,30,40)"
   ]
  },
  {
   "cell_type": "code",
   "execution_count": 59,
   "id": "aa04691c",
   "metadata": {},
   "outputs": [],
   "source": [
    "def mynewfunc(*args,**kwargs):\n",
    "    print('I would like {} {}'.format(args[0],kwargs['food']))"
   ]
  },
  {
   "cell_type": "code",
   "execution_count": 60,
   "id": "6b9be6d5",
   "metadata": {},
   "outputs": [
    {
     "name": "stdout",
     "output_type": "stream",
     "text": [
      "I would like 10 Biryani\n"
     ]
    }
   ],
   "source": [
    "mynewfunc(10,20,30,food='Biryani',fruit='mango',veggie='potato')"
   ]
  },
  {
   "cell_type": "code",
   "execution_count": 35,
   "id": "080a4be4",
   "metadata": {},
   "outputs": [
    {
     "name": "stdout",
     "output_type": "stream",
     "text": [
      "my choice of fruit is Rice\n"
     ]
    }
   ],
   "source": [
    "def myfunc(**kwargs):\n",
    "    if 'fruit'in kwargs:\n",
    "        print('my choice of fruit is {}'.format(kwargs['Food']))\n",
    "    else:\n",
    "            print('I did not find any fruit here')\n",
    "myfunc(fruit='Apple',Food='Rice')"
   ]
  },
  {
   "cell_type": "code",
   "execution_count": 36,
   "id": "52e2b433",
   "metadata": {},
   "outputs": [],
   "source": [
    "#Questions"
   ]
  },
  {
   "cell_type": "code",
   "execution_count": 39,
   "id": "de708410",
   "metadata": {},
   "outputs": [
    {
     "data": {
      "text/plain": [
       "4"
      ]
     },
     "execution_count": 39,
     "metadata": {},
     "output_type": "execute_result"
    }
   ],
   "source": [
    "def myfunc(*args):\n",
    " return len(args)\n",
    "myfunc(5,6)"
   ]
  },
  {
   "cell_type": "code",
   "execution_count": 54,
   "id": "addecc9f",
   "metadata": {},
   "outputs": [
    {
     "data": {
      "text/plain": [
       "[2, 4, 6, 8]"
      ]
     },
     "execution_count": 54,
     "metadata": {},
     "output_type": "execute_result"
    }
   ],
   "source": [
    "def my_even(*args):\n",
    "    mylist=[]\n",
    "    for number in args:\n",
    "        if number%2 ==0:\n",
    "            mylist.append(number)\n",
    "        else:\n",
    "            pass\n",
    "    return mylist\n",
    "my_even(1,2,3,4,5,6,7,8)"
   ]
  },
  {
   "cell_type": "code",
   "execution_count": 47,
   "id": "586dc12c",
   "metadata": {},
   "outputs": [],
   "source": [
    "def mystrfunc(inputstring):\n",
    "    outstring=''\n",
    "    for item in range(len(inputstring)):\n",
    "        if item%2==0:\n",
    "            outstring+=inputstring[item].lower()\n",
    "    else:\n",
    "            outstring+=inputstring[item].upper()\n",
    "            return outstring"
   ]
  },
  {
   "cell_type": "code",
   "execution_count": 27,
   "id": "9b491943",
   "metadata": {},
   "outputs": [
    {
     "data": {
      "text/plain": [
       "'ahruhjhrjoO'"
      ]
     },
     "execution_count": 27,
     "metadata": {},
     "output_type": "execute_result"
    }
   ],
   "source": [
    "mystrfunc('Ahhfrhurhnjihfrkjioo')"
   ]
  },
  {
   "cell_type": "code",
   "execution_count": null,
   "id": "b0d9062c",
   "metadata": {},
   "outputs": [],
   "source": []
  },
  {
   "cell_type": "code",
   "execution_count": null,
   "id": "0b929554",
   "metadata": {},
   "outputs": [],
   "source": []
  },
  {
   "cell_type": "code",
   "execution_count": null,
   "id": "5c72128c",
   "metadata": {},
   "outputs": [],
   "source": []
  }
 ],
 "metadata": {
  "kernelspec": {
   "display_name": "Python 3 (ipykernel)",
   "language": "python",
   "name": "python3"
  },
  "language_info": {
   "codemirror_mode": {
    "name": "ipython",
    "version": 3
   },
   "file_extension": ".py",
   "mimetype": "text/x-python",
   "name": "python",
   "nbconvert_exporter": "python",
   "pygments_lexer": "ipython3",
   "version": "3.10.9"
  }
 },
 "nbformat": 4,
 "nbformat_minor": 5
}

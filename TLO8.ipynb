{
 "cells": [
  {
   "cell_type": "markdown",
   "id": "064a67b3",
   "metadata": {},
   "source": [
    "\n",
    "Exercise 1: Shuffling a List\n",
    "Let's write a function shuffle_list that accepts a list and shuffles its elements. Here we'll use the shuffle function from the random module.\n"
   ]
  },
  {
   "cell_type": "code",
   "execution_count": 1,
   "id": "eded76aa",
   "metadata": {},
   "outputs": [],
   "source": [
    "from random import shuffle\n",
    "\n",
    "def shuffle_list(mylist):\n",
    "    shuffle(mylist)\n",
    "    return mylist\n"
   ]
  },
  {
   "cell_type": "code",
   "execution_count": 2,
   "id": "d7f96617",
   "metadata": {},
   "outputs": [
    {
     "name": "stdout",
     "output_type": "stream",
     "text": [
      "[2, 1, 6, 4, 3, 5]\n"
     ]
    }
   ],
   "source": [
    "mylist=[1,2,3,4,5,6] \n",
    "shuffled_list=shuffle_list(mylist)\n",
    "print (shuffled_list)"
   ]
  },
  {
   "cell_type": "markdown",
   "id": "6d0d248b",
   "metadata": {},
   "source": [
    "Exercise 2: Player's Guess\n",
    "We will create a function player_guess that asks the player to guess an index (0, 1, or 2). It will keep on asking until a valid index is provided.\n"
   ]
  },
  {
   "cell_type": "code",
   "execution_count": 3,
   "id": "23ff7f7f",
   "metadata": {},
   "outputs": [],
   "source": [
    "def player_guess():\n",
    "    guess = ''\n",
    "    while guess not in ['0','1','2']:\n",
    "        guess = input('Pick a number 0,1 or 2: ')\n",
    "    return int(guess)\n"
   ]
  },
  {
   "cell_type": "code",
   "execution_count": 4,
   "id": "33dd8da2",
   "metadata": {},
   "outputs": [
    {
     "name": "stdout",
     "output_type": "stream",
     "text": [
      "Pick a number 0,1 or 2: 1\n",
      "1\n"
     ]
    }
   ],
   "source": [
    "print(player_guess())  "
   ]
  },
  {
   "cell_type": "markdown",
   "id": "cbe79085",
   "metadata": {},
   "source": [
    "Exercise 3: Check the Player's Guess\n",
    "Now, let's write a function check_guess that accepts a list and a guessed index. It checks if the guessed index contains the ball ('O') and prints appropriate messages.\n"
   ]
  },
  {
   "cell_type": "code",
   "execution_count": 5,
   "id": "78a83e3e",
   "metadata": {},
   "outputs": [],
   "source": [
    "def check_guess(mylist, guess):\n",
    "    if mylist[guess] == 'O':\n",
    "        print('Correct!')\n",
    "    else:\n",
    "        print('Wrong guess')\n",
    "        print(mylist)\n"
   ]
  },
  {
   "cell_type": "code",
   "execution_count": 6,
   "id": "2e2d0faa",
   "metadata": {},
   "outputs": [
    {
     "name": "stdout",
     "output_type": "stream",
     "text": [
      "Pick a number 0,1 or 2: 2\n"
     ]
    }
   ],
   "source": [
    "mylist = ['','O','']\n",
    "guess = player_guess()\n"
   ]
  },
  {
   "cell_type": "raw",
   "id": "499fbab3",
   "metadata": {},
   "source": [
    "Exercise 4: Putting It All Together\n",
    "Finally, let's put all pieces together:\n",
    "# INITIAL LIST\n"
   ]
  },
  {
   "cell_type": "code",
   "execution_count": 7,
   "id": "65d2c695",
   "metadata": {},
   "outputs": [
    {
     "name": "stdout",
     "output_type": "stream",
     "text": [
      "Pick a number 0,1 or 2: 0\n",
      "Wrong guess\n",
      "['', '', 'O']\n"
     ]
    }
   ],
   "source": [
    "mylist = ['','O','']\n",
    "# SHUFFLE LIST\n",
    "mixedup_list = shuffle_list(mylist)\n",
    "# USER GUESS\n",
    "guess = player_guess()\n",
    "# CHECK GUESS\n",
    "check_guess(mixedup_list, guess)\n",
    "\n"
   ]
  },
  {
   "cell_type": "markdown",
   "id": "1e29099a",
   "metadata": {},
   "source": [
    "Functions exercises ,* args and **kwargs  included"
   ]
  },
  {
   "cell_type": "markdown",
   "id": "e744282a",
   "metadata": {},
   "source": [
    "Exercise 2:\n",
    "Question: Define a function called myfunc that takes in a name, and prints 'Hello Name'. Do not use f-strings. For example:\n"
   ]
  },
  {
   "cell_type": "code",
   "execution_count": 20,
   "id": "c3f53ad6",
   "metadata": {},
   "outputs": [
    {
     "name": "stdout",
     "output_type": "stream",
     "text": [
      "Hello\n"
     ]
    }
   ],
   "source": [
    "def myfun(name):\n",
    "    print('Geeta{}'.format(name))\n",
    "myfunc('Geeta')"
   ]
  },
  {
   "cell_type": "code",
   "execution_count": null,
   "id": "581f401f",
   "metadata": {},
   "outputs": [],
   "source": []
  },
  {
   "cell_type": "code",
   "execution_count": null,
   "id": "2552d427",
   "metadata": {},
   "outputs": [],
   "source": []
  }
 ],
 "metadata": {
  "kernelspec": {
   "display_name": "Python 3 (ipykernel)",
   "language": "python",
   "name": "python3"
  },
  "language_info": {
   "codemirror_mode": {
    "name": "ipython",
    "version": 3
   },
   "file_extension": ".py",
   "mimetype": "text/x-python",
   "name": "python",
   "nbconvert_exporter": "python",
   "pygments_lexer": "ipython3",
   "version": "3.10.9"
  }
 },
 "nbformat": 4,
 "nbformat_minor": 5
}

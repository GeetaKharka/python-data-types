{
 "cells": [
  {
   "cell_type": "code",
   "execution_count": 41,
   "id": "fc1aa354",
   "metadata": {},
   "outputs": [
    {
     "name": "stdout",
     "output_type": "stream",
     "text": [
      "        # \n",
      "       # # \n",
      "      # # # \n",
      "     # # # # \n",
      "    # # # # # \n",
      "   # # # # # # \n",
      "  # # # # # # # \n",
      " # # # # # # # # \n",
      "# # # # # # # # # \n"
     ]
    }
   ],
   "source": [
    "def pyramid(n):\n",
    "    for i in range(0, n):\n",
    "        for j in range(0, n-i-1):\n",
    "            print(end=\" \")\n",
    "        for j in range(0, i+1):\n",
    "            print(\"#\", end=\" \")\n",
    "        print()\n",
    "\n",
    "pyramid(9)\n"
   ]
  },
  {
   "cell_type": "code",
   "execution_count": 40,
   "id": "9da58492",
   "metadata": {},
   "outputs": [
    {
     "name": "stdout",
     "output_type": "stream",
     "text": [
      "    1 2 3 4 5 \n",
      "   1 2 3 4 5 1 2 3 4 5 \n",
      "  1 2 3 4 5 1 2 3 4 5 1 2 3 4 5 \n",
      " 1 2 3 4 5 1 2 3 4 5 1 2 3 4 5 1 2 3 4 5 \n",
      "1 2 3 4 5 1 2 3 4 5 1 2 3 4 5 1 2 3 4 5 1 2 3 4 5 \n"
     ]
    }
   ],
   "source": [
    "def pyramid(n):\n",
    "    for i in range(0, n):\n",
    "        for j in range(0, n-i-1):\n",
    "            print(end=\" \")\n",
    "        for j in range(0, i+1):\n",
    "            print(\"1\",\"2\",\"3\",\"4\",\"5\", end=\" \")\n",
    "        print()\n",
    "\n",
    "pyramid(5)\n"
   ]
  },
  {
   "cell_type": "code",
   "execution_count": 39,
   "id": "964f30b3",
   "metadata": {},
   "outputs": [
    {
     "name": "stdout",
     "output_type": "stream",
     "text": [
      "Enter a year: 2004\n",
      "This is a leap-year!\n"
     ]
    }
   ],
   "source": [
    "def leapYear():\n",
    "    year = input(\"Enter a year: \")\n",
    "    \n",
    "    if(year.isdigit() == True):\n",
    "        if( int(year) % 4 == 0 and int(year) %100 != 0 or int(year) % 400 == 0 ):\n",
    "       \n",
    "            print (\"This is a leap-year!\")\n",
    "\n",
    "        else:\n",
    "            print (\"This is not a leap-year!\")\n",
    "\n",
    "leapYear()"
   ]
  },
  {
   "cell_type": "code",
   "execution_count": 38,
   "id": "4b9d6646",
   "metadata": {},
   "outputs": [
    {
     "name": "stdout",
     "output_type": "stream",
     "text": [
      "True\n",
      "False\n"
     ]
    }
   ],
   "source": [
    "def order(x):\n",
    "  \n",
    "    n = 0\n",
    "    while x != 0:\n",
    "        n += 1\n",
    "        x //= 10\n",
    "    return n\n",
    "\n",
    "def isArmstrong(x):\n",
    "    n = order(x)\n",
    "    temp = x\n",
    "    sum1 = 0\n",
    "    while temp != 0:\n",
    "        r = temp % 10\n",
    "        sum1 += r ** n\n",
    "        temp //= 10\n",
    " \n",
    "    return sum1 == x\n",
    "x = 153\n",
    "print(isArmstrong(x))\n",
    "x = 1253\n",
    "print(isArmstrong(x))"
   ]
  },
  {
   "cell_type": "code",
   "execution_count": null,
   "id": "7a24ba96",
   "metadata": {},
   "outputs": [],
   "source": []
  }
 ],
 "metadata": {
  "kernelspec": {
   "display_name": "Python 3 (ipykernel)",
   "language": "python",
   "name": "python3"
  },
  "language_info": {
   "codemirror_mode": {
    "name": "ipython",
    "version": 3
   },
   "file_extension": ".py",
   "mimetype": "text/x-python",
   "name": "python",
   "nbconvert_exporter": "python",
   "pygments_lexer": "ipython3",
   "version": "3.10.9"
  }
 },
 "nbformat": 4,
 "nbformat_minor": 5
}

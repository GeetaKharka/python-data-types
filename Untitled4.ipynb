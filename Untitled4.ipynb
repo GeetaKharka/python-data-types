{
 "cells": [
  {
   "cell_type": "code",
   "execution_count": 5,
   "id": "e20764a4",
   "metadata": {},
   "outputs": [
    {
     "ename": "SyntaxError",
     "evalue": "invalid syntax (3845230833.py, line 1)",
     "output_type": "error",
     "traceback": [
      "\u001b[1;36m  Cell \u001b[1;32mIn[5], line 1\u001b[1;36m\u001b[0m\n\u001b[1;33m    def cap text (text):\u001b[0m\n\u001b[1;37m            ^\u001b[0m\n\u001b[1;31mSyntaxError\u001b[0m\u001b[1;31m:\u001b[0m invalid syntax\n"
     ]
    }
   ],
   "source": [
    "    def cap text (text):\n",
    "    ...\n",
    "\n",
    "    Input the string \n",
    "    Output  the capitalized  string\n",
    "     ...\n",
    "        return text.title \n",
    "       #.title()\n",
    "\n",
    "\n",
    "import unittest\n",
    "import cap\n",
    "class TestCap(unittest.TestCase):\n",
    "    def test__one__word(self):\n",
    "        text='python'\n",
    "        result =cap.cap text(text)\n",
    "        self.assertEqual(result,'Python')\n",
    "        def test__multiple__words(self):\n",
    "            text='monty python'\n",
    "            result=cap.cap text(text)\n",
    "            self.assertEqual(result,'Monty python')\n",
    "        if __name__ == '__main__':\n",
    "            unittest main()"
   ]
  },
  {
   "cell_type": "code",
   "execution_count": 6,
   "id": "2c3ba307",
   "metadata": {},
   "outputs": [],
   "source": [
    "def cap_text(text):\n",
    "    # Capitalize the input string\n",
    "    capitalized_text = text.title()\n",
    "    \n",
    "    # Return the capitalized string\n",
    "    return capitalized_text"
   ]
  },
  {
   "cell_type": "code",
   "execution_count": 7,
   "id": "2af3b9b6",
   "metadata": {},
   "outputs": [
    {
     "name": "stdout",
     "output_type": "stream",
     "text": [
      "Hello, World!\n"
     ]
    }
   ],
   "source": [
    "input_string = \"hello, world!\"\n",
    "capitalized_string = cap_text(input_string)\n",
    "print(capitalized_string)"
   ]
  },
  {
   "cell_type": "code",
   "execution_count": null,
   "id": "816882fc",
   "metadata": {},
   "outputs": [],
   "source": []
  }
 ],
 "metadata": {
  "kernelspec": {
   "display_name": "Python 3 (ipykernel)",
   "language": "python",
   "name": "python3"
  },
  "language_info": {
   "codemirror_mode": {
    "name": "ipython",
    "version": 3
   },
   "file_extension": ".py",
   "mimetype": "text/x-python",
   "name": "python",
   "nbconvert_exporter": "python",
   "pygments_lexer": "ipython3",
   "version": "3.10.9"
  }
 },
 "nbformat": 4,
 "nbformat_minor": 5
}

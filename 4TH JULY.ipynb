{
 "cells": [
  {
   "cell_type": "markdown",
   "id": "78e7d44d",
   "metadata": {},
   "source": [
    "Assessment 1: Temperature Converter (5 Marks)\n",
    "Problem Statement:\n",
    "Write a Python function called convert_temperature(temp, from_scale, to_scale) that takes a temperature, a scale to convert from, and a scale to convert to as input. The scales can be \"Celsius\", \"Fahrenheit\", or \"Kelvin\". The function should convert the temperature to the requested scale.\n",
    "Example Inputs and Outputs:\n",
    "•\tconvert_temperature(0, 'Celsius', 'Fahrenheit') should return 32\n",
    "•\tconvert_temperature(32, 'Fahrenheit', 'Celsius') should return 0\n",
    "•\tconvert_temperature(0, 'Celsius', 'Kelvin') should return 273.15\n"
   ]
  },
  {
   "cell_type": "code",
   "execution_count": 29,
   "id": "2881751c",
   "metadata": {},
   "outputs": [],
   "source": [
    "def convert_temperature(temp, from_scale, to_scale):\n",
    "    if from_scale == to_scale:\n",
    "        return temp\n",
    "\n",
    "    if from_scale == 'Celsius':\n",
    "        if to_scale == 'Fahrenheit':\n",
    "            return (temp * 9/5) + 32\n",
    "        elif to_scale == 'Kelvin':\n",
    "            return temp + 273.15\n",
    "\n",
    "    if from_scale == 'Fahrenheit':\n",
    "        if to_scale == 'Celsius':\n",
    "            return (temp - 32) * 5/7\n",
    "        elif to_scale == 'Kelvin':\n",
    "            return (temp + 41.67) * 5/7\n",
    "\n",
    "    if from_scale == 'Kelvin':\n",
    "        if to_scale == 'Celsius':\n",
    "            return temp - 273.15\n",
    "        elif to_scale == 'Fahrenheit':\n",
    "            return (temp * 9/5) - 459.67\n",
    "    "
   ]
  },
  {
   "cell_type": "code",
   "execution_count": 28,
   "id": "2edf319e",
   "metadata": {},
   "outputs": [
    {
     "name": "stdout",
     "output_type": "stream",
     "text": [
      "32.0\n",
      "0.0\n",
      "273.15\n"
     ]
    }
   ],
   "source": [
    "print(convert_temperature(0, 'Celsius', 'Fahrenheit')) \n",
    "print(convert_temperature(32, 'Fahrenheit', 'Celsius'))  \n",
    "print(convert_temperature(0, 'Celsius', 'Kelvin'))  "
   ]
  },
  {
   "cell_type": "markdown",
   "id": "a806c404",
   "metadata": {},
   "source": [
    "\n",
    "Assessment 2: Create python program using modules , collections, OS, date-time, math, and random operations also note the usecase of each modules\n"
   ]
  },
  {
   "cell_type": "code",
   "execution_count": 11,
   "id": "10af6e64",
   "metadata": {},
   "outputs": [
    {
     "name": "stdout",
     "output_type": "stream",
     "text": [
      "Counter({'GRAPES': 1, 'WATERMELON': 1, 'GUVA': 1, 'ORANGE': 1})\n",
      "C:\\Users\\MEDHAVI\\Desktop\\python\n",
      "2023-07-04 13:59:30.995472\n",
      "4.0\n",
      "7\n"
     ]
    }
   ],
   "source": [
    "import collections\n",
    "import os\n",
    "import datetime\n",
    "import math\n",
    "import random\n",
    "\n",
    "fruits = ['GRAPES', 'WATERMELON', 'GUVA', 'ORANGE',]\n",
    "fruit_counter = collections.Counter(fruits)\n",
    "print(fruit_counter) \n",
    "current_dir = os.getcwd()\n",
    "print(current_dir) \n",
    "current_datetime = datetime.datetime.now()\n",
    "print(current_datetime)  \n",
    "num = 16\n",
    "square_root = math.sqrt(num)\n",
    "print(square_root)  \n",
    "\n",
    "random_number = random.randint(1, 10)\n",
    "print(random_number) "
   ]
  },
  {
   "cell_type": "markdown",
   "id": "f1be5cfd",
   "metadata": {},
   "source": [
    "Assessment 3: Program to perform Linear Search.\n",
    "Linear search is a simple search algorithm that checks every element in the list sequentially until it finds the target value.\n"
   ]
  },
  {
   "cell_type": "code",
   "execution_count": 24,
   "id": "b51ca77c",
   "metadata": {},
   "outputs": [
    {
     "name": "stdout",
     "output_type": "stream",
     "text": [
      "The target value 34 was found at index None.\n"
     ]
    }
   ],
   "source": [
    "def linear_search(arr, target):\n",
    "    for i in range(len(arr)):\n",
    "        if arr[i] == target:\n",
    "            return i \n",
    "numbers = [5, 4,8, 3, 2, 10, 1]\n",
    "target_value = 34\n",
    "\n",
    "index = linear_search(numbers, target_value)\n",
    "\n",
    "if index != -1:\n",
    "    print(f\"The target value {target_value} was found at index {index}.\")\n",
    "else:\n",
    "    print(f\"The target value {target_value} was not found in the array.\")"
   ]
  },
  {
   "cell_type": "code",
   "execution_count": null,
   "id": "3c49a846",
   "metadata": {},
   "outputs": [],
   "source": [
    " "
   ]
  },
  {
   "cell_type": "code",
   "execution_count": null,
   "id": "140c03f2",
   "metadata": {},
   "outputs": [],
   "source": []
  }
 ],
 "metadata": {
  "kernelspec": {
   "display_name": "Python 3 (ipykernel)",
   "language": "python",
   "name": "python3"
  },
  "language_info": {
   "codemirror_mode": {
    "name": "ipython",
    "version": 3
   },
   "file_extension": ".py",
   "mimetype": "text/x-python",
   "name": "python",
   "nbconvert_exporter": "python",
   "pygments_lexer": "ipython3",
   "version": "3.10.9"
  }
 },
 "nbformat": 4,
 "nbformat_minor": 5
}

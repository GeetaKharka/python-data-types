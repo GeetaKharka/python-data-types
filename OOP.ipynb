{
 "cells": [
  {
   "cell_type": "code",
   "execution_count": 1,
   "id": "7b83146b",
   "metadata": {},
   "outputs": [],
   "source": [
    "class Car():\n",
    "    def __init__(self,color,model,make):\n",
    "        self.color=color\n",
    "        self.model=model\n",
    "        self.make=make\n",
    "    def accelerate(self):\n",
    "        print('The car is accerelating')\n",
    "    def brake(self):\n",
    "        print('The car is braking')"
   ]
  },
  {
   "cell_type": "code",
   "execution_count": 2,
   "id": "4691fb22",
   "metadata": {},
   "outputs": [],
   "source": [
    "my_car=Car('Red','Ferrari','488GTB')"
   ]
  },
  {
   "cell_type": "code",
   "execution_count": 3,
   "id": "aab0a325",
   "metadata": {},
   "outputs": [
    {
     "name": "stdout",
     "output_type": "stream",
     "text": [
      "488GTB\n"
     ]
    }
   ],
   "source": [
    "print(my_car.make)"
   ]
  },
  {
   "cell_type": "code",
   "execution_count": 4,
   "id": "65117064",
   "metadata": {},
   "outputs": [
    {
     "name": "stdout",
     "output_type": "stream",
     "text": [
      "Ferrari\n"
     ]
    }
   ],
   "source": [
    "print(my_car.model)"
   ]
  },
  {
   "cell_type": "code",
   "execution_count": 5,
   "id": "6f855f19",
   "metadata": {},
   "outputs": [
    {
     "name": "stdout",
     "output_type": "stream",
     "text": [
      "Red\n"
     ]
    }
   ],
   "source": [
    "print(my_car.color)"
   ]
  },
  {
   "cell_type": "code",
   "execution_count": 6,
   "id": "c9d71e05",
   "metadata": {},
   "outputs": [
    {
     "name": "stdout",
     "output_type": "stream",
     "text": [
      "The car is accerelating\n"
     ]
    }
   ],
   "source": [
    "my_car.accelerate()"
   ]
  },
  {
   "cell_type": "code",
   "execution_count": 7,
   "id": "34dd8861",
   "metadata": {},
   "outputs": [
    {
     "name": "stdout",
     "output_type": "stream",
     "text": [
      "The car is braking\n"
     ]
    }
   ],
   "source": [
    "my_car.brake()"
   ]
  },
  {
   "cell_type": "code",
   "execution_count": 8,
   "id": "0fbf52b8",
   "metadata": {},
   "outputs": [],
   "source": [
    "mylist=[1,2,3]"
   ]
  },
  {
   "cell_type": "code",
   "execution_count": 9,
   "id": "fb47d145",
   "metadata": {},
   "outputs": [
    {
     "data": {
      "text/plain": [
       "[1, 2, 3]"
      ]
     },
     "execution_count": 9,
     "metadata": {},
     "output_type": "execute_result"
    }
   ],
   "source": [
    "mylist"
   ]
  },
  {
   "cell_type": "code",
   "execution_count": 10,
   "id": "0078ca1c",
   "metadata": {},
   "outputs": [],
   "source": [
    "myset=[1,2,3,4,5,6,7,8]"
   ]
  },
  {
   "cell_type": "code",
   "execution_count": 11,
   "id": "8b5767fb",
   "metadata": {},
   "outputs": [],
   "source": [
    "myset=set()"
   ]
  },
  {
   "cell_type": "code",
   "execution_count": 12,
   "id": "55ed48e2",
   "metadata": {},
   "outputs": [
    {
     "data": {
      "text/plain": [
       "set()"
      ]
     },
     "execution_count": 12,
     "metadata": {},
     "output_type": "execute_result"
    }
   ],
   "source": [
    "myset"
   ]
  },
  {
   "cell_type": "code",
   "execution_count": 13,
   "id": "f5ce2ed0",
   "metadata": {},
   "outputs": [],
   "source": [
    "class Sample():\n",
    "    pass"
   ]
  },
  {
   "cell_type": "code",
   "execution_count": 14,
   "id": "da66f484",
   "metadata": {},
   "outputs": [],
   "source": [
    "my_sample=Sample()"
   ]
  },
  {
   "cell_type": "code",
   "execution_count": 15,
   "id": "6e6140ac",
   "metadata": {},
   "outputs": [
    {
     "data": {
      "text/plain": [
       "__main__.Sample"
      ]
     },
     "execution_count": 15,
     "metadata": {},
     "output_type": "execute_result"
    }
   ],
   "source": [
    "type(my_sample)"
   ]
  },
  {
   "cell_type": "code",
   "execution_count": 16,
   "id": "895ab63a",
   "metadata": {},
   "outputs": [],
   "source": [
    "class Dog():\n",
    "    def __init__(self,breed):\n",
    "        self.breed=breed"
   ]
  },
  {
   "cell_type": "code",
   "execution_count": 17,
   "id": "81951ded",
   "metadata": {},
   "outputs": [],
   "source": [
    "my_dog=Dog('Lab')"
   ]
  },
  {
   "cell_type": "code",
   "execution_count": 18,
   "id": "6fa43701",
   "metadata": {},
   "outputs": [
    {
     "data": {
      "text/plain": [
       "__main__.Dog"
      ]
     },
     "execution_count": 18,
     "metadata": {},
     "output_type": "execute_result"
    }
   ],
   "source": [
    "type(my_dog)"
   ]
  },
  {
   "cell_type": "code",
   "execution_count": 19,
   "id": "adaf64ef",
   "metadata": {},
   "outputs": [
    {
     "data": {
      "text/plain": [
       "'Lab'"
      ]
     },
     "execution_count": 19,
     "metadata": {},
     "output_type": "execute_result"
    }
   ],
   "source": [
    "my_dog.breed"
   ]
  },
  {
   "cell_type": "code",
   "execution_count": 20,
   "id": "c80d1583",
   "metadata": {},
   "outputs": [],
   "source": [
    "class Dog():\n",
    "    #Attributes\n",
    "    #we take in the argument\n",
    "    #assign it to self.attribute\n",
    "    def __init__(self,mybreed):\n",
    "        self.breed=mybreed"
   ]
  },
  {
   "cell_type": "code",
   "execution_count": 21,
   "id": "7a288845",
   "metadata": {},
   "outputs": [],
   "source": [
    "my_dog=Dog('Huskie')"
   ]
  },
  {
   "cell_type": "code",
   "execution_count": 22,
   "id": "0dfded77",
   "metadata": {},
   "outputs": [
    {
     "data": {
      "text/plain": [
       "'Huskie'"
      ]
     },
     "execution_count": 22,
     "metadata": {},
     "output_type": "execute_result"
    }
   ],
   "source": [
    "my_dog.breed"
   ]
  },
  {
   "cell_type": "code",
   "execution_count": 23,
   "id": "d88c31a3",
   "metadata": {},
   "outputs": [],
   "source": [
    "class Dog():\n",
    "     #Attributes\n",
    "    #we take in the argument\n",
    "    #assign it to self.attribute\n",
    "    def __init__(self,mybreed):\n",
    "        self.my_attribute=mybreed"
   ]
  },
  {
   "cell_type": "code",
   "execution_count": 24,
   "id": "75d5c70a",
   "metadata": {},
   "outputs": [],
   "source": [
    "my_dog=Dog('Lab')\n"
   ]
  },
  {
   "cell_type": "code",
   "execution_count": 25,
   "id": "e348dd83",
   "metadata": {},
   "outputs": [
    {
     "data": {
      "text/plain": [
       "'Lab'"
      ]
     },
     "execution_count": 25,
     "metadata": {},
     "output_type": "execute_result"
    }
   ],
   "source": [
    "my_dog.my_attribute"
   ]
  },
  {
   "cell_type": "code",
   "execution_count": 26,
   "id": "bbbf506d",
   "metadata": {},
   "outputs": [],
   "source": [
    "class Dog():\n",
    "    def __init__(self,breed,name,spots):\n",
    "        self.breed=breed\n",
    "        self.name=name\n",
    "        #expecting a boolean\n",
    "        self.spots=spots"
   ]
  },
  {
   "cell_type": "code",
   "execution_count": 27,
   "id": "6394ca76",
   "metadata": {},
   "outputs": [],
   "source": [
    "my_dog=Dog(breed='Huskie',name='Bravo',spots=False)"
   ]
  },
  {
   "cell_type": "code",
   "execution_count": 28,
   "id": "3f6ac149",
   "metadata": {},
   "outputs": [
    {
     "data": {
      "text/plain": [
       "__main__.Dog"
      ]
     },
     "execution_count": 28,
     "metadata": {},
     "output_type": "execute_result"
    }
   ],
   "source": [
    "type(my_dog)"
   ]
  },
  {
   "cell_type": "code",
   "execution_count": 29,
   "id": "e418945f",
   "metadata": {},
   "outputs": [
    {
     "data": {
      "text/plain": [
       "'Huskie'"
      ]
     },
     "execution_count": 29,
     "metadata": {},
     "output_type": "execute_result"
    }
   ],
   "source": [
    "my_dog.breed"
   ]
  },
  {
   "cell_type": "code",
   "execution_count": 30,
   "id": "ec099b6a",
   "metadata": {},
   "outputs": [
    {
     "data": {
      "text/plain": [
       "'Bravo'"
      ]
     },
     "execution_count": 30,
     "metadata": {},
     "output_type": "execute_result"
    }
   ],
   "source": [
    "my_dog.name"
   ]
  },
  {
   "cell_type": "code",
   "execution_count": 31,
   "id": "9c40492a",
   "metadata": {},
   "outputs": [
    {
     "data": {
      "text/plain": [
       "False"
      ]
     },
     "execution_count": 31,
     "metadata": {},
     "output_type": "execute_result"
    }
   ],
   "source": [
    "my_dog.spots"
   ]
  },
  {
   "cell_type": "code",
   "execution_count": 32,
   "id": "83bd2d51",
   "metadata": {},
   "outputs": [],
   "source": [
    "class Dog():\n",
    "    #class object attributes\n",
    "    #same for any instance of a class\n",
    "    species='mammal'\n",
    "    def __init__(self,breed,name,spots):\n",
    "        #Attributes\n",
    "        #we take in the argument\n",
    "        #assign it to the self.attribute_name\n",
    "        self.breed=breed\n",
    "        self.name=name\n",
    "        #expecting booleans true/false\n",
    "        self.spots=spots"
   ]
  },
  {
   "cell_type": "code",
   "execution_count": 33,
   "id": "59ef5199",
   "metadata": {},
   "outputs": [],
   "source": [
    "my_dog=Dog(breed='Lab',name='Sam',spots=False)"
   ]
  },
  {
   "cell_type": "code",
   "execution_count": 34,
   "id": "260ce727",
   "metadata": {},
   "outputs": [
    {
     "data": {
      "text/plain": [
       "__main__.Dog"
      ]
     },
     "execution_count": 34,
     "metadata": {},
     "output_type": "execute_result"
    }
   ],
   "source": [
    "type(my_dog)"
   ]
  },
  {
   "cell_type": "code",
   "execution_count": 35,
   "id": "9abc7883",
   "metadata": {},
   "outputs": [
    {
     "data": {
      "text/plain": [
       "'Lab'"
      ]
     },
     "execution_count": 35,
     "metadata": {},
     "output_type": "execute_result"
    }
   ],
   "source": [
    "my_dog.breed"
   ]
  },
  {
   "cell_type": "code",
   "execution_count": 36,
   "id": "5fceac42",
   "metadata": {},
   "outputs": [
    {
     "data": {
      "text/plain": [
       "'Sam'"
      ]
     },
     "execution_count": 36,
     "metadata": {},
     "output_type": "execute_result"
    }
   ],
   "source": [
    "my_dog.name"
   ]
  },
  {
   "cell_type": "code",
   "execution_count": 37,
   "id": "04f72a4d",
   "metadata": {},
   "outputs": [
    {
     "data": {
      "text/plain": [
       "'mammal'"
      ]
     },
     "execution_count": 37,
     "metadata": {},
     "output_type": "execute_result"
    }
   ],
   "source": [
    "my_dog.species"
   ]
  },
  {
   "cell_type": "code",
   "execution_count": 38,
   "id": "1d03e797",
   "metadata": {},
   "outputs": [
    {
     "data": {
      "text/plain": [
       "False"
      ]
     },
     "execution_count": 38,
     "metadata": {},
     "output_type": "execute_result"
    }
   ],
   "source": [
    "my_dog.spots"
   ]
  },
  {
   "cell_type": "code",
   "execution_count": 49,
   "id": "1a060cc9",
   "metadata": {},
   "outputs": [],
   "source": [
    " class Dog():\n",
    "        #class object attributes\n",
    "        #same for any instance of a class\n",
    "        species ='mammal'\n",
    "        def __init__(self,breed,name,spots):\n",
    "            #attributes\n",
    "            #we take in the argumennt\n",
    "            #assign it to the self.attribute_name\n",
    "            self.breed=breed\n",
    "            self.name=name\n",
    "            #expecting booleans true/false\n",
    "            \n",
    "            self.spots=spots\n",
    "            #operations-->Actions\n",
    "        def bark(self,number):\n",
    "            print('Woof!my name is{} and number is{}'.format(self.name,number))"
   ]
  },
  {
   "cell_type": "code",
   "execution_count": 50,
   "id": "4eee3d2f",
   "metadata": {},
   "outputs": [],
   "source": [
    "my_dog=Dog('Lab','Huskie',False)"
   ]
  },
  {
   "cell_type": "code",
   "execution_count": 51,
   "id": "87d7496f",
   "metadata": {},
   "outputs": [
    {
     "data": {
      "text/plain": [
       "__main__.Dog"
      ]
     },
     "execution_count": 51,
     "metadata": {},
     "output_type": "execute_result"
    }
   ],
   "source": [
    "type(my_dog)"
   ]
  },
  {
   "cell_type": "code",
   "execution_count": 52,
   "id": "180ef020",
   "metadata": {},
   "outputs": [
    {
     "name": "stdout",
     "output_type": "stream",
     "text": [
      "Woof!my name isHuskie and number is10\n"
     ]
    }
   ],
   "source": [
    "my_dog.bark(10)"
   ]
  },
  {
   "cell_type": "code",
   "execution_count": null,
   "id": "682ab3b2",
   "metadata": {},
   "outputs": [],
   "source": [
    "class Circle():\n",
    "    #class object attribute \n",
    "    pi=3.14\n",
    "    def __int__(self,radius=1):\n",
    "        self.radius=radius\n",
    "        #method\n",
    "        "
   ]
  }
 ],
 "metadata": {
  "kernelspec": {
   "display_name": "Python 3 (ipykernel)",
   "language": "python",
   "name": "python3"
  },
  "language_info": {
   "codemirror_mode": {
    "name": "ipython",
    "version": 3
   },
   "file_extension": ".py",
   "mimetype": "text/x-python",
   "name": "python",
   "nbconvert_exporter": "python",
   "pygments_lexer": "ipython3",
   "version": "3.10.9"
  }
 },
 "nbformat": 4,
 "nbformat_minor": 5
}

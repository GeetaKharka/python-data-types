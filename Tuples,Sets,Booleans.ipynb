{
 "cells": [
  {
   "cell_type": "code",
   "execution_count": 1,
<<<<<<< HEAD
   "id": "202f6151",
   "metadata": {},
   "outputs": [],
   "source": [
    "#tuples in python"
=======
   "id": "2fd1b71b",
   "metadata": {},
   "outputs": [],
   "source": [
    "#tuples have()"
>>>>>>> 616aadbd1f01672beed2232a1424413b7a7af1b8
   ]
  },
  {
   "cell_type": "code",
<<<<<<< HEAD
   "execution_count": 18,
   "id": "670d9b3a",
=======
   "execution_count": 2,
   "id": "47e10709",
   "metadata": {},
   "outputs": [
    {
     "data": {
      "text/plain": [
       "list"
      ]
     },
     "execution_count": 2,
     "metadata": {},
     "output_type": "execute_result"
    }
   ],
   "source": [
    "m_list =[1,23,43,324]\n",
    "m_tup =(1,2,3,5)\n",
    "type(m_list)"
   ]
  },
  {
   "cell_type": "code",
   "execution_count": 3,
   "id": "2000280b",
>>>>>>> 616aadbd1f01672beed2232a1424413b7a7af1b8
   "metadata": {},
   "outputs": [
    {
     "data": {
      "text/plain": [
       "tuple"
      ]
     },
<<<<<<< HEAD
     "execution_count": 18,
=======
     "execution_count": 3,
>>>>>>> 616aadbd1f01672beed2232a1424413b7a7af1b8
     "metadata": {},
     "output_type": "execute_result"
    }
   ],
   "source": [
<<<<<<< HEAD
    "m_list=(1,2,3,4,6)\n",
    "m_tup=(1,2,3)\n",
    "type (m_tup)\n"
=======
    "type(m_tup)"
>>>>>>> 616aadbd1f01672beed2232a1424413b7a7af1b8
   ]
  },
  {
   "cell_type": "code",
<<<<<<< HEAD
   "execution_count": 19,
   "id": "df38eded",
=======
   "execution_count": 4,
   "id": "052a8d95",
>>>>>>> 616aadbd1f01672beed2232a1424413b7a7af1b8
   "metadata": {},
   "outputs": [
    {
     "data": {
      "text/plain": [
<<<<<<< HEAD
       "3"
      ]
     },
     "execution_count": 19,
=======
       "4"
      ]
     },
     "execution_count": 4,
>>>>>>> 616aadbd1f01672beed2232a1424413b7a7af1b8
     "metadata": {},
     "output_type": "execute_result"
    }
   ],
   "source": [
    "len(m_tup)"
   ]
  },
  {
   "cell_type": "code",
<<<<<<< HEAD
   "execution_count": 20,
   "id": "e335541d",
=======
   "execution_count": 5,
   "id": "978c9d36",
>>>>>>> 616aadbd1f01672beed2232a1424413b7a7af1b8
   "metadata": {},
   "outputs": [
    {
     "data": {
      "text/plain": [
<<<<<<< HEAD
       "3"
      ]
     },
     "execution_count": 20,
=======
       "5"
      ]
     },
     "execution_count": 5,
>>>>>>> 616aadbd1f01672beed2232a1424413b7a7af1b8
     "metadata": {},
     "output_type": "execute_result"
    }
   ],
   "source": [
    "m_tup[-1]"
   ]
  },
  {
   "cell_type": "code",
<<<<<<< HEAD
   "execution_count": 21,
   "id": "8cddc163",
=======
   "execution_count": 6,
   "id": "81a14257",
>>>>>>> 616aadbd1f01672beed2232a1424413b7a7af1b8
   "metadata": {},
   "outputs": [
    {
     "data": {
      "text/plain": [
       "1"
      ]
     },
<<<<<<< HEAD
     "execution_count": 21,
=======
     "execution_count": 6,
>>>>>>> 616aadbd1f01672beed2232a1424413b7a7af1b8
     "metadata": {},
     "output_type": "execute_result"
    }
   ],
   "source": [
<<<<<<< HEAD
    "t=('a','b','c','d')\n",
=======
    "t=('a','b','c','d','e')\n",
>>>>>>> 616aadbd1f01672beed2232a1424413b7a7af1b8
    "t.count('a')"
   ]
  },
  {
   "cell_type": "code",
<<<<<<< HEAD
   "execution_count": 22,
   "id": "1963c768",
=======
   "execution_count": 7,
   "id": "428487d7",
>>>>>>> 616aadbd1f01672beed2232a1424413b7a7af1b8
   "metadata": {},
   "outputs": [
    {
     "data": {
      "text/plain": [
<<<<<<< HEAD
       "2"
      ]
     },
     "execution_count": 22,
=======
       "1"
      ]
     },
     "execution_count": 7,
>>>>>>> 616aadbd1f01672beed2232a1424413b7a7af1b8
     "metadata": {},
     "output_type": "execute_result"
    }
   ],
   "source": [
<<<<<<< HEAD
    "t.index('c')"
=======
    "t.index('b')"
>>>>>>> 616aadbd1f01672beed2232a1424413b7a7af1b8
   ]
  },
  {
   "cell_type": "code",
<<<<<<< HEAD
   "execution_count": 55,
   "id": "bf777541",
=======
   "execution_count": 8,
   "id": "bdc36860",
>>>>>>> 616aadbd1f01672beed2232a1424413b7a7af1b8
   "metadata": {},
   "outputs": [
    {
     "data": {
      "text/plain": [
<<<<<<< HEAD
       "0"
      ]
     },
     "execution_count": 55,
=======
       "[1, 23, 43, 324]"
      ]
     },
     "execution_count": 8,
>>>>>>> 616aadbd1f01672beed2232a1424413b7a7af1b8
     "metadata": {},
     "output_type": "execute_result"
    }
   ],
   "source": [
<<<<<<< HEAD
    "t.index('a')"
=======
    "m_list"
>>>>>>> 616aadbd1f01672beed2232a1424413b7a7af1b8
   ]
  },
  {
   "cell_type": "code",
<<<<<<< HEAD
   "execution_count": null,
   "id": "82f6027c",
   "metadata": {},
   "outputs": [],
   "source": [
    "#sets in python\n"
=======
   "execution_count": 9,
   "id": "5c14e5ca",
   "metadata": {},
   "outputs": [],
   "source": [
    "m_list[1]=44"
>>>>>>> 616aadbd1f01672beed2232a1424413b7a7af1b8
   ]
  },
  {
   "cell_type": "code",
<<<<<<< HEAD
   "execution_count": 27,
   "id": "35472eb8",
=======
   "execution_count": 10,
   "id": "c52e68ba",
   "metadata": {},
   "outputs": [
    {
     "data": {
      "text/plain": [
       "[1, 44, 43, 324]"
      ]
     },
     "execution_count": 10,
     "metadata": {},
     "output_type": "execute_result"
    }
   ],
   "source": [
    "m_list"
   ]
  },
  {
   "cell_type": "code",
   "execution_count": 11,
   "id": "4abe228b",
   "metadata": {},
   "outputs": [],
   "source": [
    "#Sets in python"
   ]
  },
  {
   "cell_type": "code",
   "execution_count": 12,
   "id": "3c31f561",
>>>>>>> 616aadbd1f01672beed2232a1424413b7a7af1b8
   "metadata": {},
   "outputs": [
    {
     "data": {
      "text/plain": [
       "set()"
      ]
     },
<<<<<<< HEAD
     "execution_count": 27,
=======
     "execution_count": 12,
>>>>>>> 616aadbd1f01672beed2232a1424413b7a7af1b8
     "metadata": {},
     "output_type": "execute_result"
    }
   ],
   "source": [
    "myset =set()\n",
    "myset"
   ]
  },
  {
   "cell_type": "code",
<<<<<<< HEAD
   "execution_count": 31,
   "id": "178527c4",
   "metadata": {},
   "outputs": [
    {
     "data": {
      "text/plain": [
       "(1, 3, 4, 6)"
      ]
     },
     "execution_count": 31,
     "metadata": {},
     "output_type": "execute_result"
    }
   ],
   "source": [
    "my_list =(1,3,4,6)\n",
    "my_list"
=======
   "execution_count": 13,
   "id": "7da26aac",
   "metadata": {},
   "outputs": [],
   "source": [
    "myset.add(1)"
>>>>>>> 616aadbd1f01672beed2232a1424413b7a7af1b8
   ]
  },
  {
   "cell_type": "code",
<<<<<<< HEAD
   "execution_count": 33,
   "id": "fd8400aa",
=======
   "execution_count": 14,
   "id": "db3359ec",
>>>>>>> 616aadbd1f01672beed2232a1424413b7a7af1b8
   "metadata": {},
   "outputs": [
    {
     "data": {
      "text/plain": [
<<<<<<< HEAD
       "{2}"
      ]
     },
     "execution_count": 33,
=======
       "{1}"
      ]
     },
     "execution_count": 14,
>>>>>>> 616aadbd1f01672beed2232a1424413b7a7af1b8
     "metadata": {},
     "output_type": "execute_result"
    }
   ],
   "source": [
<<<<<<< HEAD
    "myset.add(2)\n",
=======
>>>>>>> 616aadbd1f01672beed2232a1424413b7a7af1b8
    "myset"
   ]
  },
  {
   "cell_type": "code",
<<<<<<< HEAD
   "execution_count": 34,
   "id": "c04358c1",
=======
   "execution_count": 16,
   "id": "078395dd",
>>>>>>> 616aadbd1f01672beed2232a1424413b7a7af1b8
   "metadata": {},
   "outputs": [
    {
     "data": {
      "text/plain": [
<<<<<<< HEAD
       "{1, 3, 4, 6}"
      ]
     },
     "execution_count": 34,
=======
       "{1, 3}"
      ]
     },
     "execution_count": 16,
>>>>>>> 616aadbd1f01672beed2232a1424413b7a7af1b8
     "metadata": {},
     "output_type": "execute_result"
    }
   ],
   "source": [
<<<<<<< HEAD
    "set (my_list)"
=======
    "myset.add(3)\n",
    "myset"
>>>>>>> 616aadbd1f01672beed2232a1424413b7a7af1b8
   ]
  },
  {
   "cell_type": "code",
<<<<<<< HEAD
   "execution_count": 35,
   "id": "f402a571",
=======
   "execution_count": 17,
   "id": "4d00a08c",
   "metadata": {},
   "outputs": [
    {
     "data": {
      "text/plain": [
       "[3, 4, 6, 7, 8, 1, 5]"
      ]
     },
     "execution_count": 17,
     "metadata": {},
     "output_type": "execute_result"
    }
   ],
   "source": [
    "mylist=[3,4,6,7,8,1,5]\n",
    "mylist"
   ]
  },
  {
   "cell_type": "code",
   "execution_count": 19,
   "id": "8b77c181",
   "metadata": {},
   "outputs": [
    {
     "data": {
      "text/plain": [
       "{1, 3, 4, 5, 6, 7, 8}"
      ]
     },
     "execution_count": 19,
     "metadata": {},
     "output_type": "execute_result"
    }
   ],
   "source": [
    "set(mylist)"
   ]
  },
  {
   "cell_type": "code",
   "execution_count": 20,
   "id": "558da5c2",
>>>>>>> 616aadbd1f01672beed2232a1424413b7a7af1b8
   "metadata": {},
   "outputs": [],
   "source": [
    "#Booleans in python"
   ]
  },
  {
   "cell_type": "code",
<<<<<<< HEAD
   "execution_count": 36,
   "id": "ff60876a",
   "metadata": {},
   "outputs": [
    {
     "data": {
      "text/plain": [
       "False"
      ]
     },
     "execution_count": 36,
     "metadata": {},
     "output_type": "execute_result"
    }
   ],
   "source": [
    "1>2"
   ]
  },
  {
   "cell_type": "code",
   "execution_count": 37,
   "id": "9d24328b",
=======
   "execution_count": 21,
   "id": "743af284",
>>>>>>> 616aadbd1f01672beed2232a1424413b7a7af1b8
   "metadata": {},
   "outputs": [
    {
     "data": {
      "text/plain": [
       "True"
      ]
     },
<<<<<<< HEAD
     "execution_count": 37,
=======
     "execution_count": 21,
>>>>>>> 616aadbd1f01672beed2232a1424413b7a7af1b8
     "metadata": {},
     "output_type": "execute_result"
    }
   ],
   "source": [
    "2<3"
   ]
  },
  {
   "cell_type": "code",
<<<<<<< HEAD
   "execution_count": 38,
   "id": "0f4230d3",
=======
   "execution_count": 22,
   "id": "74abe1f9",
   "metadata": {},
   "outputs": [
    {
     "data": {
      "text/plain": [
       "False"
      ]
     },
     "execution_count": 22,
     "metadata": {},
     "output_type": "execute_result"
    }
   ],
   "source": [
    "1>2"
   ]
  },
  {
   "cell_type": "code",
   "execution_count": 23,
   "id": "e02f9b9b",
>>>>>>> 616aadbd1f01672beed2232a1424413b7a7af1b8
   "metadata": {},
   "outputs": [
    {
     "data": {
      "text/plain": [
       "True"
      ]
     },
<<<<<<< HEAD
     "execution_count": 38,
=======
     "execution_count": 23,
>>>>>>> 616aadbd1f01672beed2232a1424413b7a7af1b8
     "metadata": {},
     "output_type": "execute_result"
    }
   ],
   "source": [
    "1==1"
   ]
  },
  {
   "cell_type": "code",
<<<<<<< HEAD
   "execution_count": 42,
   "id": "0102d50c",
=======
   "execution_count": 24,
   "id": "51ad2abc",
>>>>>>> 616aadbd1f01672beed2232a1424413b7a7af1b8
   "metadata": {},
   "outputs": [
    {
     "data": {
      "text/plain": [
<<<<<<< HEAD
       "False"
      ]
     },
     "execution_count": 42,
=======
       "NoneType"
      ]
     },
     "execution_count": 24,
>>>>>>> 616aadbd1f01672beed2232a1424413b7a7af1b8
     "metadata": {},
     "output_type": "execute_result"
    }
   ],
   "source": [
<<<<<<< HEAD
    "4>8"
=======
    "b =None\n",
    "type(b)"
>>>>>>> 616aadbd1f01672beed2232a1424413b7a7af1b8
   ]
  },
  {
   "cell_type": "code",
   "execution_count": null,
<<<<<<< HEAD
   "id": "5457feb1",
   "metadata": {},
   "outputs": [],
   "source": []
  },
  {
   "cell_type": "code",
   "execution_count": null,
   "id": "a791a660",
=======
   "id": "67f264be",
>>>>>>> 616aadbd1f01672beed2232a1424413b7a7af1b8
   "metadata": {},
   "outputs": [],
   "source": []
  }
 ],
 "metadata": {
  "kernelspec": {
   "display_name": "Python 3 (ipykernel)",
   "language": "python",
   "name": "python3"
  },
  "language_info": {
   "codemirror_mode": {
    "name": "ipython",
    "version": 3
   },
   "file_extension": ".py",
   "mimetype": "text/x-python",
   "name": "python",
   "nbconvert_exporter": "python",
   "pygments_lexer": "ipython3",
   "version": "3.10.9"
  }
 },
 "nbformat": 4,
 "nbformat_minor": 5
}

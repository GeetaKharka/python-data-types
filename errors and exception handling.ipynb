{
 "cells": [
  {
   "cell_type": "code",
   "execution_count": 10,
   "id": "bd956a22",
   "metadata": {},
   "outputs": [],
   "source": [
    "def add (n1,n2):\n",
    "    print (n1+n2)"
   ]
  },
  {
   "cell_type": "code",
   "execution_count": 11,
   "id": "6f89bda5",
   "metadata": {},
   "outputs": [
    {
     "name": "stdout",
     "output_type": "stream",
     "text": [
      "30\n"
     ]
    }
   ],
   "source": [
    "add (10,20)"
   ]
  },
  {
   "cell_type": "code",
   "execution_count": 10,
   "id": "537955ba",
   "metadata": {},
   "outputs": [],
   "source": [
    "def adding (number1,number2):\n",
    "    try:\n",
    "        number1=10\n",
    "        number2= input('please provide an integer')\n",
    "    except:\n",
    "        print('please enter both integers')\n",
    "    finally:\n",
    "        print('Adding numbers')"
   ]
  },
  {
   "cell_type": "code",
   "execution_count": 12,
   "id": "dab3269d",
   "metadata": {},
   "outputs": [
    {
     "name": "stdout",
     "output_type": "stream",
     "text": [
      "please provide an integer10\n",
      "Adding numbers\n"
     ]
    }
   ],
   "source": [
    "adding ('number1','number2')"
   ]
  },
  {
   "cell_type": "code",
   "execution_count": 22,
   "id": "21b5aff4",
   "metadata": {},
   "outputs": [
    {
     "name": "stdout",
     "output_type": "stream",
     "text": [
      "This is getting executed as there is no error\n",
      "Add went well\n",
      "20\n"
     ]
    }
   ],
   "source": [
    "try:\n",
    "    #want to attempt this code\n",
    "    #we may have an error\n",
    "    result=10+10\n",
    "    print('This is getting executed as there is no error')\n",
    "except:\n",
    "    print(\"Hey looks like you arent adding correctly\")\n",
    "else:\n",
    "    print('Add went well')\n",
    "    print(result)"
   ]
  },
  {
   "cell_type": "code",
   "execution_count": 16,
   "id": "abf14553",
   "metadata": {},
   "outputs": [
    {
     "name": "stdout",
     "output_type": "stream",
     "text": [
      "Hey you have an OSError\n",
      "I always run\n"
     ]
    }
   ],
   "source": [
    "try:\n",
    "    f = open('testfile.txt','r')\n",
    "    print('ran textfile')\n",
    "except TypeError:\n",
    "    print('There was a type error')\n",
    "except OSError:\n",
    "    print('Hey you have an OSError')\n",
    "except:\n",
    "    print('other errors')\n",
    "finally:\n",
    "    print('I always run')"
   ]
  },
  {
   "cell_type": "code",
   "execution_count": 25,
   "id": "a0b5328a",
   "metadata": {},
   "outputs": [],
   "source": [
    "def ask_for_int():\n",
    "    try:\n",
    "        result = int(input('please provide a number'))\n",
    "    except:\n",
    "        print('Whoops!that is not a number')\n",
    "    finally:\n",
    "        print('I always run')"
   ]
  },
  {
   "cell_type": "code",
   "execution_count": 26,
   "id": "18123689",
   "metadata": {},
   "outputs": [
    {
     "name": "stdout",
     "output_type": "stream",
     "text": [
      "please provide a number10\n",
      "I always run\n"
     ]
    }
   ],
   "source": [
    "ask_for_int()"
   ]
  },
  {
   "cell_type": "code",
   "execution_count": 32,
   "id": "ae2ace5b",
   "metadata": {},
   "outputs": [],
   "source": [
    "def ask_for_int():\n",
    "    while True:\n",
    "        try:\n",
    "            result = int(input('please provide a number'))\n",
    "        except:\n",
    "            print('Whoops!that is not a number')\n",
    "            continue\n",
    "        else:\n",
    "            print('Yes thank you')\n",
    "            break\n",
    "        finally:\n",
    "            print('End of try except finally')\n",
    "            print('I always run at the end')\n",
    "        "
   ]
  },
  {
   "cell_type": "code",
   "execution_count": 35,
   "id": "7551489f",
   "metadata": {},
   "outputs": [
    {
     "name": "stdout",
     "output_type": "stream",
     "text": [
      "please provide a number10\n",
      "Yes thank you\n",
      "End of try except finally\n",
      "I always run at the end\n"
     ]
    }
   ],
   "source": [
    "ask_for_int()"
   ]
  },
  {
   "cell_type": "code",
   "execution_count": null,
   "id": "860285f7",
   "metadata": {},
   "outputs": [],
   "source": []
  }
 ],
 "metadata": {
  "kernelspec": {
   "display_name": "Python 3 (ipykernel)",
   "language": "python",
   "name": "python3"
  },
  "language_info": {
   "codemirror_mode": {
    "name": "ipython",
    "version": 3
   },
   "file_extension": ".py",
   "mimetype": "text/x-python",
   "name": "python",
   "nbconvert_exporter": "python",
   "pygments_lexer": "ipython3",
   "version": "3.10.9"
  }
 },
 "nbformat": 4,
 "nbformat_minor": 5
}

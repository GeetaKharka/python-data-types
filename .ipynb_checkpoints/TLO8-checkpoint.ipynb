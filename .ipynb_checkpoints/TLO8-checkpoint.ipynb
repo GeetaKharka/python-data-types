{
 "cells": [
  {
   "cell_type": "markdown",
   "id": "cd42b7f3",
   "metadata": {},
   "source": [
    "\n",
    "Exercise 1: Shuffling a List\n",
    "Let's write a function shuffle_list that accepts a list and shuffles its elements. Here we'll use the shuffle function from the random module.\n"
   ]
  },
  {
   "cell_type": "code",
   "execution_count": 36,
   "id": "c9a1af9c",
   "metadata": {},
   "outputs": [
    {
     "name": "stdout",
     "output_type": "stream",
     "text": [
      "<function shuffled_list at 0x00000267C0F7B5B0>\n"
     ]
    }
   ],
   "source": [
    "from random import shuffle\n",
    "\n",
    "def shuffle_list(mylist):\n",
    "    mylist=[1,2,3,4,5,6] \n",
    "    shuffle(mylist)\n",
    "    shuffled_list=shuffle_list(mylist)\n",
    "print (shuffled_list)\n"
   ]
  },
  {
   "cell_type": "code",
   "execution_count": 37,
   "id": "feff4faf",
   "metadata": {},
   "outputs": [
    {
     "data": {
      "text/plain": [
       "<function __main__.shuffle_list(mylist)>"
      ]
     },
     "execution_count": 37,
     "metadata": {},
     "output_type": "execute_result"
    }
   ],
   "source": [
    "shuffle_list "
   ]
  },
  {
   "cell_type": "markdown",
   "id": "fb9e959f",
   "metadata": {},
   "source": [
    "Exercise 2: Player's Guess\n",
    "We will create a function player_guess that asks the player to guess an index (0, 1, or 2). It will keep on asking until a valid index is provided.\n"
   ]
  },
  {
   "cell_type": "code",
   "execution_count": 11,
   "id": "1f1bdb2f",
   "metadata": {},
   "outputs": [],
   "source": [
    "def player_guess():\n",
    "    guess = ''\n",
    "    while guess not in ['0','1','2']:\n",
    "        guess = input('Pick a number 0,1 or 2: ')\n",
    "    return int(guess)\n"
   ]
  },
  {
   "cell_type": "code",
   "execution_count": 12,
   "id": "6dbc261a",
   "metadata": {},
   "outputs": [
    {
     "name": "stdout",
     "output_type": "stream",
     "text": [
      "Pick a number 0,1 or 2: 2\n",
      "2\n"
     ]
    }
   ],
   "source": [
    "print(player_guess())  "
   ]
  },
  {
   "cell_type": "markdown",
   "id": "0f208846",
   "metadata": {},
   "source": [
    "Exercise 3: Check the Player's Guess\n",
    "Now, let's write a function check_guess that accepts a list and a guessed index. It checks if the guessed index contains the ball ('O') and prints appropriate messages.\n"
   ]
  },
  {
   "cell_type": "code",
   "execution_count": 13,
   "id": "3cf4a7a0",
   "metadata": {},
   "outputs": [],
   "source": [
    "def check_guess(mylist, guess):\n",
    "    if mylist[guess] == 'O':\n",
    "        print('Correct!')\n",
    "    else:\n",
    "        print('Wrong guess')\n",
    "        print(mylist)\n"
   ]
  },
  {
   "cell_type": "code",
   "execution_count": 14,
   "id": "41eaf902",
   "metadata": {},
   "outputs": [
    {
     "name": "stdout",
     "output_type": "stream",
     "text": [
      "Pick a number 0,1 or 2: 2\n"
     ]
    }
   ],
   "source": [
    "mylist = ['','O','']\n",
    "guess = player_guess()\n"
   ]
  },
  {
   "cell_type": "markdown",
   "id": "598a485c",
   "metadata": {},
   "source": [
    "Exercise 4: Putting It All Together\n",
    "Finally, let's put all pieces together:\n",
    "# INITIAL LIST\n"
   ]
  },
  {
   "cell_type": "code",
   "execution_count": 15,
   "id": "cc54cdf9",
   "metadata": {},
   "outputs": [
    {
     "name": "stdout",
     "output_type": "stream",
     "text": [
      "Pick a number 0,1 or 2: 1\n",
      "Correct!\n"
     ]
    }
   ],
   "source": [
    "mylist = ['','O','']\n",
    "# SHUFFLE LIST\n",
    "mixedup_list = shuffle_list(mylist)\n",
    "# USER GUESS\n",
    "guess = player_guess()\n",
    "# CHECK GUESS\n",
    "check_guess(mixedup_list, guess)\n",
    "\n"
   ]
  },
  {
   "cell_type": "markdown",
   "id": "b9b52da1",
   "metadata": {},
   "source": [
    "Functions exercises ,* args and **kwargs  included"
   ]
  },
  {
   "cell_type": "markdown",
   "id": "a4647474",
   "metadata": {},
   "source": [
    "Exercise 2:\n",
    "Question: Define a function called myfunc that takes in a name, and prints 'Hello Name'. Do not use f-strings. For example:\n"
   ]
  },
  {
   "cell_type": "code",
   "execution_count": 21,
   "id": "e4478daf",
   "metadata": {},
   "outputs": [],
   "source": [
    "def myfunc(name):\n",
    "    print('Hello {}'.format(name))\n"
   ]
  },
  {
   "cell_type": "code",
   "execution_count": null,
   "id": "7da54808",
   "metadata": {},
   "outputs": [],
   "source": [
    "mkjm"
   ]
  },
  {
   "cell_type": "code",
   "execution_count": null,
   "id": "4e733bc6",
   "metadata": {},
   "outputs": [],
   "source": []
  }
 ],
 "metadata": {
  "kernelspec": {
   "display_name": "Python 3 (ipykernel)",
   "language": "python",
   "name": "python3"
  },
  "language_info": {
   "codemirror_mode": {
    "name": "ipython",
    "version": 3
   },
   "file_extension": ".py",
   "mimetype": "text/x-python",
   "name": "python",
   "nbconvert_exporter": "python",
   "pygments_lexer": "ipython3",
   "version": "3.10.9"
  }
 },
 "nbformat": 4,
 "nbformat_minor": 5
}

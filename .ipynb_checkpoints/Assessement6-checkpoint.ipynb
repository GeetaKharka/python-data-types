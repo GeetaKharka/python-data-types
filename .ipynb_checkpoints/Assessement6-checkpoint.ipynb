{
 "cells": [
  {
   "cell_type": "markdown",
   "id": "352b735a",
   "metadata": {},
   "source": [
    "1. Write a Python program function that inputs a number and prints the multiplication\n",
    "table of that number"
   ]
  },
  {
   "cell_type": "code",
   "execution_count": 2,
   "id": "a100db1f",
   "metadata": {},
   "outputs": [
    {
     "name": "stdout",
     "output_type": "stream",
     "text": [
      "9 * 1 = 9\n",
      "9 * 2 = 18\n",
      "9 * 3 = 27\n",
      "9 * 4 = 36\n",
      "9 * 5 = 45\n",
      "9 * 6 = 54\n",
      "9 * 7 = 63\n",
      "9 * 8 = 72\n",
      "9 * 9 = 81\n",
      "9 * 10 = 90\n"
     ]
    }
   ],
   "source": [
    "num = 9\n",
    "for i in range(1, 11):\n",
    "    print(num, '*', i, '=', num*i)"
   ]
  },
  {
   "cell_type": "markdown",
   "id": "b835b255",
   "metadata": {},
   "source": [
    "2.Write a Python function to find the maximum and minimum of three numbers."
   ]
  },
  {
   "cell_type": "code",
   "execution_count": 9,
   "id": "3ce9a92f",
   "metadata": {},
   "outputs": [
    {
     "data": {
      "text/plain": [
       "500"
      ]
     },
     "execution_count": 9,
     "metadata": {},
     "output_type": "execute_result"
    }
   ],
   "source": [
    "max([300,400,500])"
   ]
  },
  {
   "cell_type": "code",
   "execution_count": 8,
   "id": "293d466a",
   "metadata": {},
   "outputs": [
    {
     "data": {
      "text/plain": [
       "100"
      ]
     },
     "execution_count": 8,
     "metadata": {},
     "output_type": "execute_result"
    }
   ],
   "source": [
    "min([104,108,100])"
   ]
  },
  {
   "cell_type": "markdown",
   "id": "839fa2d4",
   "metadata": {},
   "source": [
    "3.Write a function that takes in a list of floats and returns True if the list contains\n",
    "duplicates and False if the list does not contain duplicates"
   ]
  },
  {
   "cell_type": "code",
   "execution_count": 21,
   "id": "96f4abe5",
   "metadata": {},
   "outputs": [
    {
     "name": "stdout",
     "output_type": "stream",
     "text": [
      "(True, 2)\n"
     ]
    }
   ],
   "source": [
    "def contains_duplicate(lst):\n",
    "    for i in lst:\n",
    "        if lst.count(i) > 1:\n",
    "            return True, i\n",
    "    return False, \n",
    "lst =[1, 2, 3, 4, 5, 2, 7, 8, 9]\n",
    "\n",
    "print(contains_duplicate(lst))  \n",
    " \n"
   ]
  },
  {
   "cell_type": "markdown",
   "id": "0f19fdee",
   "metadata": {},
   "source": [
    "5. Write a Python program function to create a Simple Calculator with operations (+, -,\n",
    "*, /, ^ )"
   ]
  },
  {
   "cell_type": "code",
   "execution_count": 4,
   "id": "05fbce3c",
   "metadata": {},
   "outputs": [
    {
     "name": "stdout",
     "output_type": "stream",
     "text": [
      "Enter first number: 5\n",
      "Enter operator (+, -, *, /, ^): *\n",
      "Enter second number: 4\n",
      "20.0\n"
     ]
    }
   ],
   "source": [
    "def calculator(num1, operator, num2):\n",
    "    if operator == '+':\n",
    "        return num1 + num2\n",
    "    elif operator == '-':\n",
    "        return num1 - num2\n",
    "    elif operator == '*':\n",
    "        return num1 * num2\n",
    "    elif operator == '/':\n",
    "        return num1 / num2\n",
    "    elif operator == '^':\n",
    "        return num1 ** num2\n",
    "    else:\n",
    "        return \"Error in operator\"\n",
    "\n",
    "num1 = float(input(\"Enter first number: \"))\n",
    "operator = input(\"Enter operator (+, -, *, /, ^): \")\n",
    "num2 = float(input(\"Enter second number: \"))\n",
    "\n",
    "print(calculator(num1, operator, num2))\n"
   ]
  },
  {
   "cell_type": "markdown",
   "id": "cf29c38d",
   "metadata": {},
   "source": [
    "6. Generate a random list of 10 integers between 1 and 100, then print the minimum and\n",
    "maximum values."
   ]
  },
  {
   "cell_type": "code",
   "execution_count": 5,
   "id": "79e74684",
   "metadata": {},
   "outputs": [
    {
     "name": "stdout",
     "output_type": "stream",
     "text": [
      "Random list: [90, 97, 80, 84, 85, 50, 49, 61, 23, 33]\n"
     ]
    },
    {
     "ename": "TypeError",
     "evalue": "min expected at least 1 argument, got 0",
     "output_type": "error",
     "traceback": [
      "\u001b[1;31m---------------------------------------------------------------------------\u001b[0m",
      "\u001b[1;31mTypeError\u001b[0m                                 Traceback (most recent call last)",
      "Cell \u001b[1;32mIn[5], line 6\u001b[0m\n\u001b[0;32m      3\u001b[0m random_list \u001b[38;5;241m=\u001b[39m random\u001b[38;5;241m.\u001b[39msample(\u001b[38;5;28mrange\u001b[39m(\u001b[38;5;241m1\u001b[39m, \u001b[38;5;241m101\u001b[39m), \u001b[38;5;241m10\u001b[39m)\n\u001b[0;32m      4\u001b[0m \u001b[38;5;28mprint\u001b[39m(\u001b[38;5;124m\"\u001b[39m\u001b[38;5;124mRandom list:\u001b[39m\u001b[38;5;124m\"\u001b[39m, random_list)\n\u001b[1;32m----> 6\u001b[0m \u001b[38;5;28;43mmin\u001b[39;49m\u001b[43m(\u001b[49m\u001b[43m)\u001b[49m\n\u001b[0;32m      7\u001b[0m max_value \u001b[38;5;241m=\u001b[39m \u001b[38;5;28mmax\u001b[39m(random_list)\n\u001b[0;32m      9\u001b[0m \u001b[38;5;28mprint\u001b[39m(\u001b[38;5;124m\"\u001b[39m\u001b[38;5;124mMinimum value:\u001b[39m\u001b[38;5;124m\"\u001b[39m, min_value)\n",
      "\u001b[1;31mTypeError\u001b[0m: min expected at least 1 argument, got 0"
     ]
    }
   ],
   "source": [
    "import random\n",
    "\n",
    "random_list = random.sample(range(1, 101), 10)\n",
    "print(\"Random list:\", random_list)\n",
    "\n",
    "min_value = min(random_li\n",
    "max_value = max(random_list)\n",
    "\n",
    "print(\"Minimum value:\", min_value)\n",
    "print(\"Maximum value:\", max_value)\n"
   ]
  },
  {
   "cell_type": "markdown",
   "id": "703ea8ab",
   "metadata": {},
   "source": [
    "7. Use argument (*args) to get the table of 8:"
   ]
  },
  {
   "cell_type": "code",
   "execution_count": null,
   "id": "5f793c14",
   "metadata": {},
   "outputs": [],
   "source": []
  }
 ],
 "metadata": {
  "kernelspec": {
   "display_name": "Python 3 (ipykernel)",
   "language": "python",
   "name": "python3"
  },
  "language_info": {
   "codemirror_mode": {
    "name": "ipython",
    "version": 3
   },
   "file_extension": ".py",
   "mimetype": "text/x-python",
   "name": "python",
   "nbconvert_exporter": "python",
   "pygments_lexer": "ipython3",
   "version": "3.10.9"
  }
 },
 "nbformat": 4,
 "nbformat_minor": 5
}

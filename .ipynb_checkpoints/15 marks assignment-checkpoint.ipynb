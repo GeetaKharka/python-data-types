{
 "cells": [
  {
   "cell_type": "code",
   "execution_count": 24,
   "id": "5187aed8",
   "metadata": {},
   "outputs": [
    {
     "name": "stdout",
     "output_type": "stream",
     "text": [
      "Enter a year: 2006\n",
      "This is not a leap-year!\n"
     ]
    }
   ],
   "source": [
    "def leapYear():\n",
    "    year = input(\"Enter a year: \")\n",
    "    \n",
    "    if(year.isdigit() == True):\n",
    "        if( int(year) % 4 == 0 and int(year) %100 != 0 or int(year) % 400 == 0 ):\n",
    "       \n",
    "            print (\"This is a leap-year!\")\n",
    "\n",
    "        else:\n",
    "            print (\"This is not a leap-year!\")\n",
    "\n",
    "leapYear()"
   ]
  },
  {
   "cell_type": "code",
   "execution_count": 23,
   "id": "a531dd6a",
   "metadata": {},
   "outputs": [],
   "source": [
    "def is_primes(num):\n",
    "    #print(num)\n",
    "    if num<2:\n",
    "        return 0\n",
    "    primes=[2]\n",
    "    x=3\n",
    "    while x<=num:\n",
    "        for y in range(3,x,2):\n",
    "            #print(y)\n",
    "            if x%y==0:\n",
    "                x+=2\n",
    "                break\n",
    "        else:\n",
    "            primes.append(x)\n",
    "            x+=2\n",
    "    return primes\n",
    "    \n",
    "\n",
    "   \n",
    "    "
   ]
  },
  {
   "cell_type": "code",
   "execution_count": 3,
   "id": "b9930d1b",
   "metadata": {},
   "outputs": [
    {
     "data": {
      "text/plain": [
       "[2, 3, 5]"
      ]
     },
     "execution_count": 3,
     "metadata": {},
     "output_type": "execute_result"
    }
   ],
   "source": [
    "is_primes(5)"
   ]
  },
  {
   "cell_type": "code",
   "execution_count": 4,
   "id": "502674da",
   "metadata": {},
   "outputs": [
    {
     "data": {
      "text/plain": [
       "[2, 3]"
      ]
     },
     "execution_count": 4,
     "metadata": {},
     "output_type": "execute_result"
    }
   ],
   "source": [
    "is_primes(3)"
   ]
  },
  {
   "cell_type": "code",
   "execution_count": 25,
   "id": "ccfaa2df",
   "metadata": {},
   "outputs": [
    {
     "name": "stdout",
     "output_type": "stream",
     "text": [
      "Enter a number: 23\n",
      "61140246220134321665003393653336165477351686144000000000\n"
     ]
    }
   ],
   "source": [
    "def factor(num):\n",
    "    if num == 0:\n",
    "        return 1\n",
    "    else:\n",
    "        return num * factorial(n - 1)\n",
    "\n",
    "\n",
    "num = int(input(\"Enter a number: \"))\n",
    "print(factor(num))\n"
   ]
  },
  {
   "cell_type": "code",
   "execution_count": 10,
   "id": "efe88c75",
   "metadata": {},
   "outputs": [
    {
     "name": "stdout",
     "output_type": "stream",
     "text": [
      "Enter the num 22\n",
      "The factorial of 1 is 1124000727777607680000\n"
     ]
    }
   ],
   "source": [
    " num = int(input('Enter the num '))\n",
    "result = 1\n",
    "for num in range(num,0,-1):\n",
    "    result= num*result\n",
    "print('The factorial of',num, 'is', result)"
   ]
  },
  {
   "cell_type": "code",
   "execution_count": 7,
   "id": "67920f14",
   "metadata": {},
   "outputs": [],
   "source": [
    "def fib(n):\n",
    "    a = 0\n",
    "    b= 1\n",
    "    \n",
    "    if n ==1:\n",
    "        print(a)\n",
    "    else: \n",
    "        print(a)\n",
    "        print(b)\n",
    "        \n",
    "        for i in range(2,n):\n",
    "            c = a+b\n",
    "            a= b\n",
    "            b= c\n",
    "            print(c)"
   ]
  },
  {
   "cell_type": "code",
   "execution_count": 8,
   "id": "70f0a96d",
   "metadata": {},
   "outputs": [
    {
     "name": "stdout",
     "output_type": "stream",
     "text": [
      "0\n",
      "1\n",
      "1\n",
      "2\n",
      "3\n",
      "5\n"
     ]
    }
   ],
   "source": [
    "fib(6)"
   ]
  },
  {
   "cell_type": "code",
   "execution_count": null,
   "id": "9298de1e",
   "metadata": {},
   "outputs": [],
   "source": []
  }
 ],
 "metadata": {
  "kernelspec": {
   "display_name": "Python 3 (ipykernel)",
   "language": "python",
   "name": "python3"
  },
  "language_info": {
   "codemirror_mode": {
    "name": "ipython",
    "version": 3
   },
   "file_extension": ".py",
   "mimetype": "text/x-python",
   "name": "python",
   "nbconvert_exporter": "python",
   "pygments_lexer": "ipython3",
   "version": "3.10.9"
  }
 },
 "nbformat": 4,
 "nbformat_minor": 5
}

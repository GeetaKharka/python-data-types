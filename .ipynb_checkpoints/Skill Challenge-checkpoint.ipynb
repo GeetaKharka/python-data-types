{
 "cells": [
  {
   "cell_type": "markdown",
   "id": "b53cc23e",
   "metadata": {},
   "source": [
    "TASK:1\n",
    "    "
   ]
  },
  {
   "cell_type": "code",
   "execution_count": 11,
   "id": "cbc4fdc0",
   "metadata": {},
   "outputs": [
    {
     "name": "stdout",
     "output_type": "stream",
     "text": [
      "Enter the letterz\n",
      "The letter is not foud in the list\n"
     ]
    }
   ],
   "source": [
    "user_input=(input(\"Enter the letter\"))\n",
    "my_list=['s','d','A','b','e']\n",
    "if user_input in my_list:\n",
    "    print(\"The letter is present in the list\")\n",
    "else:\n",
    "     print(\"The letter is not foud in the list\")\n",
    "    "
   ]
  },
  {
   "cell_type": "markdown",
   "id": "48f46a92",
   "metadata": {},
   "source": [
    "TASK:2"
   ]
  },
  {
   "cell_type": "code",
   "execution_count": 12,
   "id": "e98d77ea",
   "metadata": {},
   "outputs": [
    {
     "name": "stdout",
     "output_type": "stream",
     "text": [
      "enter the number5\n",
      "5 x = 5\n",
      "5 x = 10\n",
      "5 x = 15\n",
      "5 x = 20\n",
      "5 x = 25\n",
      "5 x = 30\n",
      "5 x = 35\n",
      "5 x = 40\n",
      "5 x = 45\n",
      "5 x = 50\n"
     ]
    }
   ],
   "source": [
    "num=int(input(\"enter the number\"))\n",
    "for i in range(1,11):\n",
    "    print(num,'x','=',i*num)"
   ]
  },
  {
   "cell_type": "markdown",
   "id": "8172a41a",
   "metadata": {},
   "source": [
    "TASK:3"
   ]
  },
  {
   "cell_type": "code",
   "execution_count": 16,
   "id": "2a16f06c",
   "metadata": {},
   "outputs": [
    {
     "ename": "SyntaxError",
     "evalue": "invalid syntax (224909532.py, line 1)",
     "output_type": "error",
     "traceback": [
      "\u001b[1;36m  Cell \u001b[1;32mIn[16], line 1\u001b[1;36m\u001b[0m\n\u001b[1;33m    filename=input(\"enter the file name\":)\u001b[0m\n\u001b[1;37m                                        ^\u001b[0m\n\u001b[1;31mSyntaxError\u001b[0m\u001b[1;31m:\u001b[0m invalid syntax\n"
     ]
    }
   ],
   "source": [
    "filename=input(\"enter the file name\":)\n",
    "with open(filename,'w')as f:\n",
    "    user_input=input(\"Enter text:\")\n",
    "    f.write(user_input)"
   ]
  },
  {
   "cell_type": "markdown",
   "id": "9097f8a5",
   "metadata": {},
   "source": [
    "TASK:4"
   ]
  },
  {
   "cell_type": "code",
   "execution_count": 14,
   "id": "c7392aab",
   "metadata": {},
   "outputs": [
    {
     "name": "stdout",
     "output_type": "stream",
     "text": [
      "addition 5\n",
      "substraction 1\n",
      "multiply 6\n"
     ]
    }
   ],
   "source": [
    "x=3\n",
    "y=2\n",
    "add=(x+y)\n",
    "sub=(x-y)\n",
    "mul=(x*y)\n",
    "print(\"addition\",x+y)\n",
    "print(\"substraction\",x-y)\n",
    "print(\"multiply\",x*y)"
   ]
  },
  {
   "cell_type": "code",
   "execution_count": null,
   "id": "64cf626f",
   "metadata": {},
   "outputs": [],
   "source": []
  }
 ],
 "metadata": {
  "kernelspec": {
   "display_name": "Python 3 (ipykernel)",
   "language": "python",
   "name": "python3"
  },
  "language_info": {
   "codemirror_mode": {
    "name": "ipython",
    "version": 3
   },
   "file_extension": ".py",
   "mimetype": "text/x-python",
   "name": "python",
   "nbconvert_exporter": "python",
   "pygments_lexer": "ipython3",
   "version": "3.10.9"
  }
 },
 "nbformat": 4,
 "nbformat_minor": 5
}

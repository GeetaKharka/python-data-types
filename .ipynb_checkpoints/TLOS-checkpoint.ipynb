{
 "cells": [
  {
   "cell_type": "markdown",
   "id": "3bd8c169",
   "metadata": {},
   "source": [
    "1.Create variables of different data types (integer, float, string, and boolean) and perform various arithmetic operations on them.\n"
   ]
  },
  {
   "cell_type": "code",
   "execution_count": 3,
   "id": "e077a860",
   "metadata": {},
   "outputs": [
    {
     "name": "stdout",
     "output_type": "stream",
     "text": [
      "13.5 35.0 2.857142857142857\n"
     ]
    }
   ],
   "source": [
    "a = 10\n",
    "b = 3.5\n",
    "c = \"20\"\n",
    "result1 = a + b\n",
    "result2 = a * b\n",
    "result3 = a / b\n",
    "print(result1, result2, result3)\n"
   ]
  },
  {
   "cell_type": "markdown",
   "id": "619d16a6",
   "metadata": {},
   "source": [
    "2.Given a string s = \"Programming is fun!\", extract the word \"is\" using slicing.\n"
   ]
  },
  {
   "cell_type": "code",
   "execution_count": 1,
   "id": "98a4ff15",
   "metadata": {},
   "outputs": [
    {
     "name": "stdout",
     "output_type": "stream",
     "text": [
      "Programming is fun\n"
     ]
    }
   ],
   "source": [
    "s=\"Programming is fun\"\n",
    "extracted_word=s\n",
    "print(extracted_word)"
   ]
  },
  {
   "cell_type": "markdown",
   "id": "fa86df9c",
   "metadata": {},
   "source": [
    "3.Calculate the area of a rectangle with length l and width w using the multiplication operator."
   ]
  },
  {
   "cell_type": "code",
   "execution_count": 9,
   "id": "b35ab139",
   "metadata": {},
   "outputs": [],
   "source": [
    "l=10\n",
    "w=8\n",
    "area=l*w\n",
    "\n"
   ]
  },
  {
   "cell_type": "code",
   "execution_count": 10,
   "id": "6526077b",
   "metadata": {},
   "outputs": [
    {
     "name": "stdout",
     "output_type": "stream",
     "text": [
      "The area of rectangle is: 80\n"
     ]
    }
   ],
   "source": [
    "print(\"The area of rectangle is:\",area)"
   ]
  },
  {
   "cell_type": "markdown",
   "id": "76bd8c6c",
   "metadata": {},
   "source": [
    "4.Given two numbers x and y, calculate their sum, difference, product, and quotient using arithmetic operators."
   ]
  },
  {
   "cell_type": "code",
   "execution_count": 12,
   "id": "a4b69639",
   "metadata": {},
   "outputs": [
    {
     "name": "stdout",
     "output_type": "stream",
     "text": [
      "Sum: 56\n",
      "Dfference: -16\n",
      "Product: 720\n",
      "Quotient: 0.5555555555555556\n"
     ]
    }
   ],
   "source": [
    "x=20\n",
    "y=36\n",
    "sum_result=x+y\n",
    "diff_result=x-y\n",
    "prod_result=x*y\n",
    "quot_result=x/y\n",
    "print(\"Sum:\",sum_result)\n",
    "print(\"Dfference:\",diff_result)\n",
    "print(\"Product:\",prod_result)\n",
    "print(\"Quotient:\",quot_result)\n"
   ]
  },
  {
   "cell_type": "markdown",
   "id": "d04e9f0b",
   "metadata": {},
   "source": [
    "6.Determine the remainder of the division of two numbers a and b using the modulo operator."
   ]
  },
  {
   "cell_type": "code",
   "execution_count": 13,
   "id": "660d5c26",
   "metadata": {},
   "outputs": [
    {
     "name": "stdout",
     "output_type": "stream",
     "text": [
      "The remainderof the division is: 0\n"
     ]
    }
   ],
   "source": [
    "a=12\n",
    "b=6\n",
    "remainder=a%b\n",
    "print(\"The remainderof the division is:\",remainder)"
   ]
  },
  {
   "cell_type": "markdown",
   "id": "eae0e872",
   "metadata": {},
   "source": [
    "7.\tTake two numbers as input from the user and perform addition, subtraction, multiplication, and division operations."
   ]
  },
  {
   "cell_type": "code",
   "execution_count": 15,
   "id": "77e694e1",
   "metadata": {},
   "outputs": [
    {
     "name": "stdout",
     "output_type": "stream",
     "text": [
      "Enter your first number:2\n",
      "Enter your second number:3\n",
      "Sum: 5.0\n",
      "Difference: -1.0\n",
      "Product: 6.0\n",
      "Quotient: 0.6666666666666666\n"
     ]
    }
   ],
   "source": [
    "x=float(input(\"Enter your first number:\"))\n",
    "y=float(input(\"Enter your second number:\"))\n",
    "sum_result=x+y\n",
    "diff_result= x - y\n",
    "prod_result = x * y\n",
    "quot_result = x / y\n",
    "\n",
    "print(\"Sum:\", sum_result)\n",
    "print(\"Difference:\", diff_result)\n",
    "print(\"Product:\", prod_result)\n",
    "print(\"Quotient:\", quot_result)\n"
   ]
  },
  {
   "cell_type": "markdown",
   "id": "4735d3b3",
   "metadata": {},
   "source": [
    "8.Take the length and width of a rectangle as input from the user and calculate its area."
   ]
  },
  {
   "cell_type": "code",
   "execution_count": 16,
   "id": "6c8db9f0",
   "metadata": {},
   "outputs": [
    {
     "name": "stdout",
     "output_type": "stream",
     "text": [
      "Enter the length of rectangle:23\n",
      "Enter the width of rectangle:2\n",
      "prod: 46.0\n"
     ]
    }
   ],
   "source": [
    "x=float(input(\"Enter the length of rectangle:\"))\n",
    "y=float(input(\"Enter the width of rectangle:\"))\n",
    "prod_result=x*y\n",
    "print(\"prod:\",prod_result)"
   ]
  },
  {
   "cell_type": "code",
   "execution_count": 17,
   "id": "fa287740",
   "metadata": {},
   "outputs": [],
   "source": [
    "#TLOS 3"
   ]
  },
  {
   "cell_type": "markdown",
   "id": "57cdde28",
   "metadata": {},
   "source": [
    "1. Exercise: Concatenate two strings and find the length of the concatenated string."
   ]
  },
  {
   "cell_type": "code",
   "execution_count": null,
   "id": "89749003",
   "metadata": {},
   "outputs": [],
   "source": []
  }
 ],
 "metadata": {
  "kernelspec": {
   "display_name": "Python 3 (ipykernel)",
   "language": "python",
   "name": "python3"
  },
  "language_info": {
   "codemirror_mode": {
    "name": "ipython",
    "version": 3
   },
   "file_extension": ".py",
   "mimetype": "text/x-python",
   "name": "python",
   "nbconvert_exporter": "python",
   "pygments_lexer": "ipython3",
   "version": "3.10.9"
  }
 },
 "nbformat": 4,
 "nbformat_minor": 5
}

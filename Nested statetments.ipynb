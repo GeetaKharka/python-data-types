{
 "cells": [
  {
   "cell_type": "code",
   "execution_count": 1,
   "id": "260ca8c4",
   "metadata": {},
   "outputs": [],
   "source": [
    "x=25\n",
    "def printer():\n",
    "    x=50\n",
    "    return x\n",
    "#print(x)\n",
    "#print(printer())"
   ]
  },
  {
   "cell_type": "code",
   "execution_count": 2,
   "id": "20071eae",
   "metadata": {},
   "outputs": [
    {
     "name": "stdout",
     "output_type": "stream",
     "text": [
      "25\n"
     ]
    }
   ],
   "source": [
    "print(x)"
   ]
  },
  {
   "cell_type": "code",
   "execution_count": 3,
   "id": "5ffb2339",
   "metadata": {},
   "outputs": [
    {
     "name": "stdout",
     "output_type": "stream",
     "text": [
      "50\n"
     ]
    }
   ],
   "source": [
    "print(printer())"
   ]
  },
  {
   "cell_type": "code",
   "execution_count": 4,
   "id": "76ebe50d",
   "metadata": {},
   "outputs": [],
   "source": [
    "#x is local here:\n",
    "f=lambda x:x**2"
   ]
  },
  {
   "cell_type": "markdown",
   "id": "3eaea1c3",
   "metadata": {},
   "source": [
    "ENCLLOSING FUNCTIONS LOCALS\n"
   ]
  },
  {
   "cell_type": "code",
   "execution_count": 6,
   "id": "013c940a",
   "metadata": {},
   "outputs": [],
   "source": [
    "name ='This is a global name'\n",
    "def greet():\n",
    "    #Enclosing function\n",
    "    name='sam'\n",
    "    def hello():\n",
    "        print('HELLO'+NAME)\n",
    "        hello()\n",
    "        great()"
   ]
  },
  {
   "cell_type": "code",
   "execution_count": 7,
   "id": "006ef955",
   "metadata": {},
   "outputs": [
    {
     "name": "stdout",
     "output_type": "stream",
     "text": [
      "This is a global name\n"
     ]
    }
   ],
   "source": [
    "print(name)"
   ]
  },
  {
   "cell_type": "code",
   "execution_count": 8,
   "id": "5dd41d17",
   "metadata": {},
   "outputs": [
    {
     "data": {
      "text/plain": [
       "<function len(obj, /)>"
      ]
     },
     "execution_count": 8,
     "metadata": {},
     "output_type": "execute_result"
    }
   ],
   "source": [
    "len"
   ]
  },
  {
   "cell_type": "code",
   "execution_count": 9,
   "id": "93fff605",
   "metadata": {},
   "outputs": [],
   "source": [
    "#Local variables"
   ]
  },
  {
   "cell_type": "code",
   "execution_count": 17,
   "id": "33a08075",
   "metadata": {},
   "outputs": [
    {
     "name": "stdout",
     "output_type": "stream",
     "text": [
      "x is x 50\n",
      "Change local x to  2\n",
      "x is still 50\n"
     ]
    }
   ],
   "source": [
    "x=50\n",
    "def func(x):\n",
    "    print('x is x',x)\n",
    "    x = 2\n",
    "    print('Change local x to ',x) \n",
    "    \n",
    "func(x)\n",
    "print('x is still',x)"
   ]
  },
  {
   "cell_type": "code",
   "execution_count": 19,
   "id": "f4cfab72",
   "metadata": {},
   "outputs": [],
   "source": [
    "#the global statements"
   ]
  },
  {
   "cell_type": "code",
   "execution_count": 27,
   "id": "f62725e3",
   "metadata": {},
   "outputs": [
    {
     "name": "stdout",
     "output_type": "stream",
     "text": [
      "this function is now using the global x!\n",
      "Because of global x is: 50\n",
      "Ran func(),changed global x to 2\n",
      "Before calling func(),x is: 2\n",
      "value of x (outside of func())is: 2\n"
     ]
    }
   ],
   "source": [
    "x=50\n",
    "def func():\n",
    "    global x\n",
    "    print ('this function is now using the global x!')\n",
    "    print('Because of global x is:',x)\n",
    "    x=2\n",
    "    print ('Ran func(),changed global x to',x)\n",
    "    print('Before calling func(),x is:',x)\n",
    "func()\n",
    "print('value of x (outside of func())is:',x)"
   ]
  },
  {
   "cell_type": "code",
   "execution_count": 28,
   "id": "b0ef4f63",
   "metadata": {},
   "outputs": [
    {
     "name": "stdout",
     "output_type": "stream",
     "text": [
      "2\n"
     ]
    }
   ],
   "source": [
    "print(x)"
   ]
  },
  {
   "cell_type": "code",
   "execution_count": 34,
   "id": "1e85c5a5",
   "metadata": {},
   "outputs": [],
   "source": [
    "x=23\n",
    "def printer():\n",
    "    x=24\n",
    "    return x\n",
    "#print (x)\n",
    "#print(printer())\n",
    "\n",
    "    "
   ]
  },
  {
   "cell_type": "code",
   "execution_count": 35,
   "id": "87425060",
   "metadata": {},
   "outputs": [
    {
     "name": "stdout",
     "output_type": "stream",
     "text": [
      "23\n"
     ]
    }
   ],
   "source": [
    "print(x)"
   ]
  },
  {
   "cell_type": "code",
   "execution_count": 36,
   "id": "6db868e6",
   "metadata": {},
   "outputs": [
    {
     "name": "stdout",
     "output_type": "stream",
     "text": [
      "24\n"
     ]
    }
   ],
   "source": [
    "print(printer())"
   ]
  },
  {
   "cell_type": "code",
   "execution_count": 37,
   "id": "8b8a3fda",
   "metadata": {},
   "outputs": [],
   "source": [
    "x=2+5\n",
    "def printer():\n",
    "    x=3+3\n",
    "    return x\n",
    "#print(sum of x)\n",
    "#print(printer())"
   ]
  },
  {
   "cell_type": "code",
   "execution_count": 39,
   "id": "a3a14ab1",
   "metadata": {},
   "outputs": [
    {
     "name": "stdout",
     "output_type": "stream",
     "text": [
      "7\n"
     ]
    }
   ],
   "source": [
    "print( x)"
   ]
  },
  {
   "cell_type": "code",
   "execution_count": 40,
   "id": "90b1a95e",
   "metadata": {},
   "outputs": [
    {
     "name": "stdout",
     "output_type": "stream",
     "text": [
      "6\n"
     ]
    }
   ],
   "source": [
    "print(printer())"
   ]
  },
  {
   "cell_type": "code",
   "execution_count": 42,
   "id": "7166d6ea",
   "metadata": {},
   "outputs": [
    {
     "name": "stdout",
     "output_type": "stream",
     "text": [
      "My name is Geeta Chettri\n",
      "BCA student of MSU: 50\n",
      "TODAY IS VERY SUNNY DAY 2\n",
      "I AM VERY HAPPY: 2\n",
      "STAY HAPPY: 2\n"
     ]
    }
   ],
   "source": [
    "x=50\n",
    "def func():\n",
    "    global x\n",
    "    print ('My name is Geeta Chettri')\n",
    "    print('BCA student of MSU:',x)\n",
    "    x=2\n",
    "    print ('TODAY IS VERY SUNNY DAY',x)\n",
    "    print('I AM VERY HAPPY:',x)\n",
    "func()\n",
    "print('STAY HAPPY:',x)"
   ]
  },
  {
   "cell_type": "code",
   "execution_count": null,
   "id": "6f304614",
   "metadata": {},
   "outputs": [],
   "source": []
  }
 ],
 "metadata": {
  "kernelspec": {
   "display_name": "Python 3 (ipykernel)",
   "language": "python",
   "name": "python3"
  },
  "language_info": {
   "codemirror_mode": {
    "name": "ipython",
    "version": 3
   },
   "file_extension": ".py",
   "mimetype": "text/x-python",
   "name": "python",
   "nbconvert_exporter": "python",
   "pygments_lexer": "ipython3",
   "version": "3.10.9"
  }
 },
 "nbformat": 4,
 "nbformat_minor": 5
}

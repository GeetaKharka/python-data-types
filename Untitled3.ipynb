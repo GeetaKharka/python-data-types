{
 "cells": [
  {
   "cell_type": "code",
   "execution_count": null,
   "id": "f2dedcac",
   "metadata": {},
   "outputs": [],
   "source": [
    "def register():\n",
    "    name = input(\"Enter your name: \")\n",
    "    email = input(\"Enter your email: \")\n",
    "    password = input(\"Enter your password: \")\n",
    "    confirm_password = input(\"Confirm password: \")\n",
    "\n",
    "    if password != confirm_password:\n",
    "        print(\"Passwords do not match. Registration failed.\")\n",
    "        return\n",
    "\n",
    "    print(\"Registration successful!\")\n",
    "\n",
    "register()"
   ]
  },
  {
   "cell_type": "code",
   "execution_count": null,
   "id": "d944ca87",
   "metadata": {},
   "outputs": [],
   "source": []
  },
  {
   "cell_type": "code",
   "execution_count": null,
   "id": "e8d3e551",
   "metadata": {},
   "outputs": [],
   "source": []
  }
 ],
 "metadata": {
  "kernelspec": {
   "display_name": "Python 3 (ipykernel)",
   "language": "python",
   "name": "python3"
  },
  "language_info": {
   "codemirror_mode": {
    "name": "ipython",
    "version": 3
   },
   "file_extension": ".py",
   "mimetype": "text/x-python",
   "name": "python",
   "nbconvert_exporter": "python",
   "pygments_lexer": "ipython3",
   "version": "3.10.9"
  }
 },
 "nbformat": 4,
 "nbformat_minor": 5
}

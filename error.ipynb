{
 "cells": [
  {
   "cell_type": "code",
   "execution_count": 1,
   "id": "d1f4a6d3",
   "metadata": {},
   "outputs": [],
   "source": [
    "def add (n1,n2):\n",
    "    print(n1+n2)"
   ]
  },
  {
   "cell_type": "code",
   "execution_count": 4,
   "id": "79f961e9",
   "metadata": {},
   "outputs": [
    {
     "ename": "NameError",
     "evalue": "name 'add' is not defined",
     "output_type": "error",
     "traceback": [
      "\u001b[1;31m---------------------------------------------------------------------------\u001b[0m",
      "\u001b[1;31mNameError\u001b[0m                                 Traceback (most recent call last)",
      "Cell \u001b[1;32mIn[4], line 1\u001b[0m\n\u001b[1;32m----> 1\u001b[0m \u001b[43madd\u001b[49m(\u001b[38;5;241m10\u001b[39m,\u001b[38;5;241m30\u001b[39m)\n",
      "\u001b[1;31mNameError\u001b[0m: name 'add' is not defined"
     ]
    }
   ],
   "source": [
    "add(10,30)"
   ]
  },
  {
   "cell_type": "code",
   "execution_count": 5,
   "id": "ed8a6308",
   "metadata": {},
   "outputs": [],
   "source": [
    "def adding (number1,number2):\n",
    "    try:\n",
    "        number1=8\n",
    "        number2=input('Please provide an integer')\n",
    "    except:\n",
    "        print(\"please enter both integers\")\n",
    "    finally:\n",
    "        print(\"adding numbers\")\n",
    "        "
   ]
  },
  {
   "cell_type": "code",
   "execution_count": 6,
   "id": "b191fc44",
   "metadata": {},
   "outputs": [
    {
     "name": "stdout",
     "output_type": "stream",
     "text": [
      "Please provide an integer6\n",
      "adding numbers\n"
     ]
    }
   ],
   "source": [
    "adding('number1','number2')"
   ]
  },
  {
   "cell_type": "code",
   "execution_count": 7,
   "id": "e456241a",
   "metadata": {},
   "outputs": [
    {
     "name": "stdout",
     "output_type": "stream",
     "text": [
      "Try is getting executed as there is no error\n",
      "add went  well\n",
      "20\n"
     ]
    }
   ],
   "source": [
    "    try:\n",
    "    #want to attempt this code\n",
    "    #we may have an error\n",
    "        result=10+10\n",
    "        print('Try is getting executed as there is no error')\n",
    "    except:\n",
    "        print(\"hey looks like you aren't adding correctly\")\n",
    "    else:\n",
    "        print('add went  well')\n",
    "        print(result)\n",
    "    "
   ]
  },
  {
   "cell_type": "code",
   "execution_count": null,
   "id": "5ffa3611",
   "metadata": {},
   "outputs": [],
   "source": []
  },
  {
   "cell_type": "code",
   "execution_count": null,
   "id": "6a86f3ff",
   "metadata": {},
   "outputs": [],
   "source": []
  },
  {
   "cell_type": "code",
   "execution_count": null,
   "id": "31340edb",
   "metadata": {},
   "outputs": [],
   "source": []
  }
 ],
 "metadata": {
  "kernelspec": {
   "display_name": "Python 3 (ipykernel)",
   "language": "python",
   "name": "python3"
  },
  "language_info": {
   "codemirror_mode": {
    "name": "ipython",
    "version": 3
   },
   "file_extension": ".py",
   "mimetype": "text/x-python",
   "name": "python",
   "nbconvert_exporter": "python",
   "pygments_lexer": "ipython3",
   "version": "3.10.9"
  }
 },
 "nbformat": 4,
 "nbformat_minor": 5
}
